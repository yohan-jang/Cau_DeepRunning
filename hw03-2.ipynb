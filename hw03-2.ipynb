{
  "nbformat": 4,
  "nbformat_minor": 0,
  "metadata": {
    "colab": {
      "name": "Untitled3.ipynb",
      "provenance": [],
      "collapsed_sections": []
    },
    "kernelspec": {
      "name": "python3",
      "display_name": "Python 3"
    }
  },
  "cells": [
    {
      "cell_type": "code",
      "metadata": {
        "id": "6H3mIoL2eivG",
        "colab_type": "code",
        "outputId": "d0478ad6-191a-4c89-c7d9-6f3a90eac5f8",
        "colab": {
          "base_uri": "https://localhost:8080/",
          "height": 127
        }
      },
      "source": [
        "from google.colab import drive\n",
        "drive.mount('/content/drive')"
      ],
      "execution_count": 0,
      "outputs": [
        {
          "output_type": "stream",
          "text": [
            "Go to this URL in a browser: https://accounts.google.com/o/oauth2/auth?client_id=947318989803-6bn6qk8qdgf4n4g3pfee6491hc0brc4i.apps.googleusercontent.com&redirect_uri=urn%3aietf%3awg%3aoauth%3a2.0%3aoob&response_type=code&scope=email%20https%3a%2f%2fwww.googleapis.com%2fauth%2fdocs.test%20https%3a%2f%2fwww.googleapis.com%2fauth%2fdrive%20https%3a%2f%2fwww.googleapis.com%2fauth%2fdrive.photos.readonly%20https%3a%2f%2fwww.googleapis.com%2fauth%2fpeopleapi.readonly\n",
            "\n",
            "Enter your authorization code:\n",
            "··········\n",
            "Mounted at /content/drive\n"
          ],
          "name": "stdout"
        }
      ]
    },
    {
      "cell_type": "code",
      "metadata": {
        "id": "F0lS0VHnewLy",
        "colab_type": "code",
        "outputId": "a7f5320e-1543-4b60-ea70-89dfdbe0f51a",
        "colab": {
          "base_uri": "https://localhost:8080/",
          "height": 197
        }
      },
      "source": [
        "import numpy as np\n",
        "from mpl_toolkits.mplot3d import Axes3D\n",
        "import matplotlib.pyplot as plt\n",
        "from matplotlib import style\n",
        "import csv\n",
        "\n",
        "path = \"/content/drive/My Drive/data_train.csv\"\n",
        "data = np.genfromtxt(path, delimiter=',')\n",
        "\n",
        "train_x_data = data[:, 0]\n",
        "train_y_data = data[:, 1]\n",
        "train_z_data = data[:, 2]\n",
        "train_h_data = data[:, 3]\n",
        "\n",
        "path2 = \"/content/drive/My Drive/data_test.csv\"\n",
        "data = np.genfromtxt(path2, delimiter=',')\n",
        "\n",
        "test_x_data = data[:, 0]\n",
        "test_y_data = data[:, 1]\n",
        "test_z_data = data[:, 2]\n",
        "test_h_data = data[:, 3]\n",
        "\n",
        "#with open('/content/drive/My Drive/data_train.csv', newline='') as myfile:\n",
        "#    reader  = csv.reader(myfile, delimiter=',')\n",
        "#    ct = 1 \n",
        "#    for i in reader:\n",
        "        #print('[', ct, ']', 'x =', i[0], ', y = ', i[1], ', z = ', i[2], ', h = ', i[3])\n",
        "#        train_x_data.append(i[0])\n",
        "#        train_y_data.append(i[1])\n",
        "#        train_z_data.append(i[2])\n",
        "#        train_h_data.append(i[3])\n",
        "\n",
        "#with open('/content/drive/My Drive/data_test.csv', newline='') as myfile:\n",
        "#    reader  = csv.reader(myfile, delimiter=',')\n",
        "#    ct = 1 \n",
        "#    for i in reader:\n",
        "#        #print('[', ct, ']', 'x =', i[0], ', y = ', i[1], ', z = ', i[2], ', h = ', i[3])\n",
        "#        test_x_data.append(i[0])\n",
        "#        test_x_data.append(i[1])\n",
        "#        test_x_data.append(i[2])\n",
        "#        test_x_data.append(i[3])\n",
        "\n",
        "#for i in range(len(train_x_data)):\n",
        "  #print('train_x_data[', i, '] =', train_x_data[i])\n",
        "\n",
        "#print(type(train_x_data[0]))\n",
        "#print(train_x_data[100])\n",
        "#print(len(train_x_data))\n",
        "\n",
        "# NORMALIZATION (그냥 표본가지고 뽑아버리면 Runningtime Error:overflow가 발생함)\n",
        "\n",
        "min_train_x_data = float(300)\n",
        "min_train_y_data = float(300)\n",
        "min_train_z_data = float(300)\n",
        "min_train_h_data = float(300)\n",
        "\n",
        "max_train_x_data = float(0)\n",
        "max_train_y_data = float(0)\n",
        "max_train_z_data = float(0)\n",
        "max_train_h_data = float(0)\n",
        "\n",
        "for i in range(len(train_x_data)):\n",
        "  if min_train_x_data > train_x_data[i]:\n",
        "    min_train_x_data = train_x_data[i]\n",
        "  if min_train_y_data > train_y_data[i]:\n",
        "    min_train_y_data = train_y_data[i]\n",
        "  if min_train_z_data > train_z_data[i]:\n",
        "    min_train_z_data = train_z_data[i]\n",
        "  if min_train_h_data > train_h_data[i]:\n",
        "    min_train_h_data = train_h_data[i]\n",
        "\n",
        "print('min_train_x_data =', min_train_x_data)\n",
        "print('min_train_y_data =', min_train_y_data)\n",
        "print('min_train_z_data =', min_train_z_data)\n",
        "print('min_train_h_data =', min_train_h_data)\n",
        "\n",
        "for i in range(len(train_x_data)):\n",
        "  if max_train_x_data < train_x_data[i]:\n",
        "    max_train_x_data = train_x_data[i]\n",
        "  if max_train_y_data < train_y_data[i]:\n",
        "    max_train_y_data = train_y_data[i]\n",
        "  if max_train_z_data < train_z_data[i]:\n",
        "    max_train_z_data = train_z_data[i]\n",
        "  if max_train_h_data < train_h_data[i]:\n",
        "    max_train_h_data = train_h_data[i]\n",
        "print()\n",
        "print('max_train_x_data =', max_train_x_data)\n",
        "print('max_train_y_data =', max_train_y_data)\n",
        "print('max_train_z_data =', max_train_z_data)\n",
        "print('max_train_h_data =', max_train_h_data)\n",
        "print()\n",
        "\n",
        "for i in range(len(train_x_data)):\n",
        "  train_x_data[i] = (train_x_data[i] - min_train_x_data)/(max_train_x_data - min_train_x_data)\n",
        "  train_y_data[i] = (train_y_data[i] - min_train_y_data)/(max_train_y_data - min_train_y_data)\n",
        "  train_z_data[i] = (train_z_data[i] - min_train_z_data)/(max_train_z_data - min_train_z_data)\n",
        "  train_h_data[i] = (train_h_data[i] - min_train_h_data)/(max_train_h_data - min_train_h_data)\n"
      ],
      "execution_count": 0,
      "outputs": [
        {
          "output_type": "stream",
          "text": [
            "min_train_x_data = 0.029941313\n",
            "min_train_y_data = -8.932101598\n",
            "min_train_z_data = -18.76220986\n",
            "min_train_h_data = -96.11724036\n",
            "\n",
            "max_train_x_data = 301.7826308\n",
            "max_train_y_data = 308.9869349\n",
            "max_train_z_data = 308.1620473\n",
            "max_train_h_data = 953.389368\n",
            "\n"
          ],
          "name": "stdout"
        }
      ]
    },
    {
      "cell_type": "code",
      "metadata": {
        "id": "ViPVGMLTiVJA",
        "colab_type": "code",
        "outputId": "f5692685-31f7-480b-bed6-88cbfb9c1ed9",
        "colab": {
          "base_uri": "https://localhost:8080/",
          "height": 89
        }
      },
      "source": [
        "learning_rate = float(0.001)\n",
        "\n",
        "theta0 = float(-5)    #임의로 초기값 설정\n",
        "theta1 = float(0)\n",
        "theta2 = float(5)\n",
        "theta3 = float(10)\n",
        "m = float(len(train_x_data))\n",
        "\n",
        "gradient_theta0 = float(0)\n",
        "gradient_theta1 = float(0)\n",
        "gradient_theta2 = float(0)\n",
        "gradient_theta3 = float(0)\n",
        "\n",
        "space_theta0 = []\n",
        "space_theta1 = []\n",
        "space_theta2 = []\n",
        "space_theta3 = []\n",
        "\n",
        "new_theta0 = float(0)\n",
        "new_theta1 = float(0)\n",
        "new_theta2 = float(0)\n",
        "new_theta3 = float(0)\n",
        "\n",
        "for i in range(100000):\n",
        "  for j in range(len(train_x_data)):\n",
        "    x = train_x_data[j]\n",
        "    y = train_y_data[j]\n",
        "    z = train_z_data[j]\n",
        "    h = train_h_data[j]\n",
        "    gradient_theta0 += ((theta0 + (theta1 * x) + (theta2 * y) + (theta3 * z) - h))/m\n",
        "    gradient_theta1 += (x * (theta0 + (theta1 * x) + (theta2 * y) + (theta3 * z) - h))/m\n",
        "    gradient_theta2 += (y * (theta0 + (theta1 * x) + (theta2 * y) + (theta3 * z) - h))/m\n",
        "    gradient_theta3 += (z * (theta0 + (theta1 * x) + (theta2 * y) + (theta3 * z) - h))/m\n",
        "  new_theta0 = theta0 - (learning_rate * gradient_theta0)\n",
        "  new_theta1 = theta1 - (learning_rate * gradient_theta1)\n",
        "  new_theta2 = theta2 - (learning_rate * gradient_theta2)\n",
        "  new_theta3 = theta3 - (learning_rate * gradient_theta3)\n",
        "  gradient_theta0 = float(0)\n",
        "  gradient_theta1 = float(0)\n",
        "  gradient_theta2 = float(0)\n",
        "  gradient_theta3 = float(0) #초기화\n",
        "  theta0 = new_theta0\n",
        "  theta1 = new_theta1\n",
        "  theta2 = new_theta2\n",
        "  theta3 = new_theta3\n",
        "  space_theta0.append(theta0)\n",
        "  space_theta1.append(theta1)\n",
        "  space_theta2.append(theta2)\n",
        "  space_theta3.append(theta3)\n",
        "\n",
        "print('theta0 =', theta0)\n",
        "print('theta1 =', theta1)\n",
        "print('theta2 =', theta2)\n",
        "print('theta3 =', theta3)\n",
        "\n"
      ],
      "execution_count": 0,
      "outputs": [
        {
          "output_type": "stream",
          "text": [
            "theta0 = -0.2537705100073952\n",
            "theta1 = -4.709719358743012\n",
            "theta2 = 0.6056306840104099\n",
            "theta3 = 5.436240491431177\n"
          ],
          "name": "stdout"
        }
      ]
    },
    {
      "cell_type": "code",
      "metadata": {
        "id": "vzph5byYrmGd",
        "colab_type": "code",
        "outputId": "1d7a33ec-eb6f-4963-9677-0be1f7029c1b",
        "colab": {
          "base_uri": "https://localhost:8080/",
          "height": 297
        }
      },
      "source": [
        "x = range(100000)\n",
        "y1 = space_theta0[:100000]\n",
        "y2 = space_theta1[:100000]\n",
        "y3 = space_theta2[:100000]\n",
        "y4 = space_theta3[:100000]\n",
        "\n",
        "plt.xlabel('Time t(iteration)')\n",
        "plt.ylabel('Theta')\n",
        "plt.plot(x, y1, 'black', x, y2, 'red', x, y3, 'green', x, y4, 'blue')\n",
        "plt.show()\n",
        "\n"
      ],
      "execution_count": 0,
      "outputs": [
        {
          "output_type": "display_data",
          "data": {
            "image/png": "[encoded data removed]",
            "text/plain": [
              "<Figure size 432x288 with 1 Axes>"
            ]
          },
          "metadata": {
            "tags": [],
            "needs_background": "light"
          }
        },
        {
          "output_type": "stream",
          "text": [
            "100000\n"
          ],
          "name": "stdout"
        }
      ]
    },
    {
      "cell_type": "code",
      "metadata": {
        "id": "ADzb8ATCCb2_",
        "colab_type": "code",
        "colab": {}
      },
      "source": [
        "sum = float(0)\n",
        "result = float(0)\n",
        "J = []\n",
        "\n",
        "for i in range(len(space_theta0)):\n",
        "  theta0 = space_theta0[i]\n",
        "  theta1 = space_theta1[i]\n",
        "  theta2 = space_theta2[i]\n",
        "  theta3 = space_theta3[i]\n",
        "  for j in range(len(train_x_data)):\n",
        "    x = train_x_data[j]\n",
        "    y = train_y_data[j]\n",
        "    z = train_z_data[j]\n",
        "    h = train_h_data[j]\n",
        "    result += ((theta0 + (theta1 * x) + (theta2 * y) + (theta3 * z) - h) ** 2) / (2 * m)\n",
        "  J.append(result)\n",
        "  result = float(0)\n"
      ],
      "execution_count": 0,
      "outputs": []
    },
    {
      "cell_type": "code",
      "metadata": {
        "id": "Quasmn_zKFTU",
        "colab_type": "code",
        "outputId": "bb7e937a-9690-4551-a125-e833bcfa2050",
        "colab": {
          "base_uri": "https://localhost:8080/",
          "height": 297
        }
      },
      "source": [
        "#print(len(J))\n",
        "x = range(100000)\n",
        "plt.xlabel('Time t(iteration)')\n",
        "plt.ylabel('J(Loss)')\n",
        "plt.plot(x, J, 'blue')\n",
        "plt.show()\n"
      ],
      "execution_count": 0,
      "outputs": [
        {
          "output_type": "stream",
          "text": [
            "100000\n"
          ],
          "name": "stdout"
        },
        {
          "output_type": "display_data",
          "data": {
            "image/png": "[encoded data removed]",
            "text/plain": [
              "<Figure size 432x288 with 1 Axes>"
            ]
          },
          "metadata": {
            "tags": [],
            "needs_background": "light"
          }
        }
      ]
    }
  ]
}