{
  "nbformat": 4,
  "nbformat_minor": 0,
  "metadata": {
    "colab": {
      "name": "Untitled13.ipynb",
      "provenance": [],
      "collapsed_sections": []
    },
    "kernelspec": {
      "name": "python3",
      "display_name": "Python 3"
    },
    "accelerator": "GPU"
  },
  "cells": [
    {
      "cell_type": "code",
      "metadata": {
        "id": "wqN7gqL-9dVY",
        "colab_type": "code",
        "colab": {
          "base_uri": "https://localhost:8080/",
          "height": 127
        },
        "outputId": "8f8bff1e-85c0-4e5d-ed7f-848a824a1ebe"
      },
      "source": [
        "from google.colab import drive\n",
        "drive.mount('/content/drive')"
      ],
      "execution_count": null,
      "outputs": [
        {
          "output_type": "stream",
          "text": [
            "Go to this URL in a browser: https://accounts.google.com/o/oauth2/auth?client_id=947318989803-6bn6qk8qdgf4n4g3pfee6491hc0brc4i.apps.googleusercontent.com&redirect_uri=urn%3aietf%3awg%3aoauth%3a2.0%3aoob&response_type=code&scope=email%20https%3a%2f%2fwww.googleapis.com%2fauth%2fdocs.test%20https%3a%2f%2fwww.googleapis.com%2fauth%2fdrive%20https%3a%2f%2fwww.googleapis.com%2fauth%2fdrive.photos.readonly%20https%3a%2f%2fwww.googleapis.com%2fauth%2fpeopleapi.readonly\n",
            "\n",
            "Enter your authorization code:\n",
            "··········\n",
            "Mounted at /content/drive\n"
          ],
          "name": "stdout"
        }
      ]
    },
    {
      "cell_type": "markdown",
      "metadata": {
        "id": "NtjPACme7mvA",
        "colab_type": "text"
      },
      "source": [
        "**Data Part**"
      ]
    },
    {
      "cell_type": "code",
      "metadata": {
        "id": "JlvtoZ4p9Dky",
        "colab_type": "code",
        "colab": {
          "base_uri": "https://localhost:8080/",
          "height": 89
        },
        "outputId": "f5a4f908-b87c-4132-e3f6-3c1cd58ec35d"
      },
      "source": [
        "import matplotlib.pyplot as plt\n",
        "import numpy as np\n",
        "import re\n",
        "import nltk\n",
        "from sklearn.datasets import load_files\n",
        "nltk.download('stopwords')\n",
        "nltk.download('wordnet')\n",
        "import pickle\n",
        "from nltk.corpus import stopwords\n",
        "from nltk.stem import WordNetLemmatizer\n",
        "from sklearn.feature_extraction.text import CountVectorizer\n",
        "from sklearn.feature_extraction.text import TfidfTransformer\n",
        "from sklearn.model_selection import train_test_split\n",
        "\n",
        "\n",
        "review_data = load_files(r\"/content/drive/My Drive/movie_review\")\n",
        "X, y = review_data.data, review_data.target\n",
        "\n",
        "documents = []\n",
        "\n",
        "stemmer = WordNetLemmatizer()\n",
        "\n",
        "for sen in range(0, len(X)):\n",
        "    # Remove all the special characters\n",
        "    document = re.sub(r'\\W', ' ', str(X[sen]))\n",
        "    \n",
        "    # remove all single characters\n",
        "    document = re.sub(r'\\s+[a-zA-Z]\\s+', ' ', document)\n",
        "    \n",
        "    # Remove single characters from the start\n",
        "    document = re.sub(r'\\^[a-zA-Z]\\s+', ' ', document) \n",
        "    \n",
        "    # Substituting multiple spaces with single space\n",
        "    document = re.sub(r'\\s+', ' ', document, flags=re.I)\n",
        "    \n",
        "    # Removing prefixed 'b'\n",
        "    document = re.sub(r'^b\\s+', '', document)\n",
        "    \n",
        "    # Converting to Lowercase\n",
        "    document = document.lower()\n",
        "    \n",
        "    # Lemmatization\n",
        "    document = document.split()\n",
        "    document = [stemmer.lemmatize(word) for word in document]\n",
        "    document = ' '.join(document)\n",
        "    \n",
        "    documents.append(document)\n",
        "\n",
        "vectorizer = CountVectorizer(max_features=1500, min_df=5, max_df=0.7, stop_words=stopwords.words('english'))\n",
        "X = vectorizer.fit_transform(documents).toarray()\n",
        "\n",
        "tfidfconverter = TfidfTransformer()\n",
        "X = tfidfconverter.fit_transform(X).toarray()\n",
        "\n",
        "X_train, X_test, y_train, y_test = train_test_split(X, y, test_size=0.3, shuffle=False)\n",
        "\n",
        "#-------------------------------------------------------------------------------\n",
        "\n",
        "u0 = []\n",
        "u0_space = []\n",
        "\n",
        "ramda = 10\n",
        "\n",
        "gradient_u0 = []\n",
        "\n",
        "m = len(X_train[0])\n",
        "\n",
        "learning_rate = 0.01\n",
        "\n",
        "for i in range(len(X_train[0])):\n",
        "    gradient_u0.append(0)\n",
        "\n",
        "for i in range(len(X_train[0])):\n",
        "    u0.append(1)\n",
        "\n",
        "for p in range(2000):\n",
        "    for i in range(len(X_train)):\n",
        "        mid_term0 = 0\n",
        "        label = y_train[i]\n",
        "\n",
        "        for j in range(len(X_train[0])):\n",
        "            mid_term0 += X_train[i][j] * u0[j]\n",
        "\n",
        "        mid_term0 = 1 / (1 + np.exp(-1 * mid_term0))\n",
        "\n",
        "        for k in range(len(X_train[0])):\n",
        "            gradient_u0[k] += ( ( mid_term0 - label ) * X_train[i][k] ) / m\n",
        "\n",
        "    for i in range(len(u0)):\n",
        "        u0[i] = ( ( 1 - (learning_rate * ramda) ) * u0[i] ) - (learning_rate * gradient_u0[i])\n",
        "        u0_space.append(u0[i])\n",
        "        gradient_u0[i] = 0\n",
        "\n",
        "u_space = []\n",
        "\n",
        "for i in range(2000):\n",
        "    temp = u0_space[1500*i:1500*(i+1)]\n",
        "    u_space.append(temp)\n",
        "\n",
        "#-------------------------------------------------------------------------------\n",
        "\n",
        "result_space = []\n",
        "result = 0\n",
        "result1_space = []\n",
        "result1 = 0\n",
        "\n",
        "for i in range(2000):\n",
        "    for j in range(len(X_train)):\n",
        "        label = y_train[j]\n",
        "        theta_sum = 0\n",
        "        result_sum = 0\n",
        "        for k in range(len(X_train[0])):\n",
        "            result_sum += u_space[i][k] * X_train[j][k]\n",
        "            if ( j == 0 ):\n",
        "                theta_sum += u_space[i][k] ** 2\n",
        "        result_sum = 1 / (1 + np.exp(-1 * result_sum))\n",
        "        result +=  ( (-1 * label * np.log(result_sum)) - ( (1 - label) * np.log(1-result_sum) ) ) / m\n",
        "    result += (ramda / 2) * theta_sum\n",
        "    result_space.append(result)\n",
        "    result = 0\n",
        "\n",
        "for i in range(2000):\n",
        "    for j in range(len(X_test)):\n",
        "        label = y_test[j]\n",
        "        theta_sum1 = 0\n",
        "        result_sum1 = 0\n",
        "        for k in range(len(X_test[0])):\n",
        "            result_sum1 += u_space[i][k] * X_test[j][k]\n",
        "            if ( j == 0 ):\n",
        "                theta_sum1 += u_space[i][k] ** 2\n",
        "        result_sum1 = 1 / (1 + np.exp(-1 * result_sum1))\n",
        "        result1 +=  ( (-1 * label * np.log(result_sum1)) - ( (1 - label) * np.log(1-result_sum1) ) ) / m\n",
        "    result1 += (ramda / 2) * theta_sum1\n",
        "    result1_space.append(result1)\n",
        "    result1 = 0\n",
        "\n",
        "#-------------------------------------------------------------------------------\n",
        "\n",
        "correct_space = []\n",
        "correct1_space = []\n",
        "\n",
        "for i in range(2000):\n",
        "    correct = 0\n",
        "    for j in range(len(X_train)):\n",
        "        label = y_train[j]\n",
        "        result_sum = 0\n",
        "        for k in range(len(X_train[0])):\n",
        "            result_sum += u_space[i][k] * X_train[j][k]\n",
        "        result_sum = 1 / (1 + np.exp(-1 * result_sum))\n",
        "        if (result_sum >= 1/2):\n",
        "            im_label = 1\n",
        "        else:\n",
        "            im_label = 0\n",
        "\n",
        "        if (im_label == label):\n",
        "            correct += 1\n",
        "    correct_space.append( (correct / m) * 100 )\n",
        "\n",
        "for i in range(2000):\n",
        "    correct = 0\n",
        "    for j in range(len(X_test)):\n",
        "        label = y_test[j]\n",
        "        result_sum = 0\n",
        "        for k in range(len(X_test[0])):\n",
        "            result_sum += u_space[i][k] * X_test[j][k]\n",
        "        result_sum = 1 / (1 + np.exp(-1 * result_sum))\n",
        "        if (result_sum >= 1/2):\n",
        "            im_label = 1\n",
        "        else:\n",
        "            im_label = 0\n",
        "\n",
        "        if (im_label == label):\n",
        "            correct += 1\n",
        "    correct1_space.append( (correct / m) * 100 )\n",
        "\n",
        "#-------------------------------------------------------------------------------\n",
        "\n",
        "label_1_num_train = 0\n",
        "label_0_num_train = 0\n",
        "TP_train = 0\n",
        "TF_train = 0\n",
        "\n",
        "for i in range(len(X_train)):\n",
        "\n",
        "    label = y_train[i]\n",
        "    if (label == 0):\n",
        "        label_0_num_train += 1\n",
        "    else:\n",
        "        label_1_num_train += 1\n",
        "\n",
        "    sum = 0\n",
        "    for j in range(len(X_train[0])):\n",
        "        sum += u0[j] * X_train[i][j]\n",
        "    sum = 1 / (1 + np.exp(-1 * sum)) \n",
        "    \n",
        "    if (sum >= 1/2):\n",
        "        im_label = 1\n",
        "    else:\n",
        "        im_label = 0\n",
        "\n",
        "    if (im_label == label and label == 1):\n",
        "        TP_train += 1\n",
        "    elif (im_label == label and label == 0):\n",
        "        TF_train += 1\n",
        "    else:\n",
        "        continue\n",
        "\n",
        "#-------------------------------------------------------------------------------\n",
        "\n",
        "label_1_num_test = 0\n",
        "label_0_num_test = 0\n",
        "TP_test = 0\n",
        "TF_test = 0\n",
        "\n",
        "for i in range(len(X_test)):\n",
        "\n",
        "    label = y_test[i]\n",
        "    if (label == 0):\n",
        "        label_0_num_test += 1\n",
        "    else:\n",
        "        label_1_num_test += 1\n",
        "\n",
        "    sum = 0\n",
        "    for j in range(len(X_test[0])):\n",
        "        sum += u0[j] * X_test[i][j]\n",
        "    sum = 1 / (1 + np.exp(-1 * sum)) \n",
        "    \n",
        "    if (sum >= 1/2):\n",
        "        im_label = 1\n",
        "    else:\n",
        "        im_label = 0\n",
        "\n",
        "    if (im_label == label and label == 1):\n",
        "        TP_test += 1\n",
        "    elif (im_label == label and label == 0):\n",
        "        TF_test += 1\n",
        "    else:\n",
        "        continue\n"
      ],
      "execution_count": null,
      "outputs": [
        {
          "output_type": "stream",
          "text": [
            "[nltk_data] Downloading package stopwords to /root/nltk_data...\n",
            "[nltk_data]   Unzipping corpora/stopwords.zip.\n",
            "[nltk_data] Downloading package wordnet to /root/nltk_data...\n",
            "[nltk_data]   Unzipping corpora/wordnet.zip.\n"
          ],
          "name": "stdout"
        }
      ]
    },
    {
      "cell_type": "markdown",
      "metadata": {
        "id": "ktJ8ZcH57yaA",
        "colab_type": "text"
      },
      "source": [
        "**Task 1 : Plot the Loss Curve**"
      ]
    },
    {
      "cell_type": "code",
      "metadata": {
        "id": "Sy85JM5jSESJ",
        "colab_type": "code",
        "colab": {
          "base_uri": "https://localhost:8080/",
          "height": 279
        },
        "outputId": "c7536b65-100a-4ceb-ab95-8408b79521f8"
      },
      "source": [
        "x = range(2000)\n",
        "plt.xlabel('t(iteration)')\n",
        "plt.ylabel('J(Cost function)')\n",
        "plt.plot(x, result_space, 'blue', label='training_loss')\n",
        "plt.plot(x, result1_space, 'red', label='test_loss')\n",
        "plt.legend(loc = 0)\n",
        "plt.show()"
      ],
      "execution_count": null,
      "outputs": [
        {
          "output_type": "display_data",
          "data": {
            "image/png": "[encoded data removed]",
            "text/plain": [
              "<Figure size 432x288 with 1 Axes>"
            ]
          },
          "metadata": {
            "tags": [],
            "needs_background": "light"
          }
        }
      ]
    },
    {
      "cell_type": "markdown",
      "metadata": {
        "id": "Ee0dA4a275n6",
        "colab_type": "text"
      },
      "source": [
        "**Task 2 - Plot the accuracy Curve**"
      ]
    },
    {
      "cell_type": "code",
      "metadata": {
        "id": "9zGrxZ6xScMS",
        "colab_type": "code",
        "colab": {
          "base_uri": "https://localhost:8080/",
          "height": 279
        },
        "outputId": "bf54ba6c-c58b-4678-c19f-9b80baa33a07"
      },
      "source": [
        "x = range(2000)\n",
        "plt.xlabel('t(iteration')\n",
        "plt.ylabel('Correctness')\n",
        "plt.plot(x, correct_space, 'blue', label='training_correctness')\n",
        "plt.plot(x, correct1_space, 'red', label='testing_correctness')\n",
        "plt.legend(loc = 0)\n",
        "plt.show()"
      ],
      "execution_count": null,
      "outputs": [
        {
          "output_type": "display_data",
          "data": {
            "image/png": "[encoded data removed]",
            "text/plain": [
              "<Figure size 432x288 with 1 Axes>"
            ]
          },
          "metadata": {
            "tags": [],
            "needs_background": "light"
          }
        }
      ]
    },
    {
      "cell_type": "markdown",
      "metadata": {
        "id": "57U-Zmbh8YuC",
        "colab_type": "text"
      },
      "source": [
        "testing_correctness 가 잘못 출력이 되는 거 같습니다. 원인을 찾는 중입니다.\n",
        "accuracy score와 다르게 출력 됨."
      ]
    },
    {
      "cell_type": "markdown",
      "metadata": {
        "id": "7PSwT5y38Mua",
        "colab_type": "text"
      },
      "source": [
        "**Task 3 - Plot the quantitative results**"
      ]
    },
    {
      "cell_type": "code",
      "metadata": {
        "id": "qHYfbcEF4UG1",
        "colab_type": "code",
        "colab": {
          "base_uri": "https://localhost:8080/",
          "height": 539
        },
        "outputId": "030dcb69-853f-4e84-d927-d136ba142668"
      },
      "source": [
        "print(\"Training data\")\n",
        "print(\"\")\n",
        "print(\"1. confusion_matrix\")\n",
        "print(\"             predicted:1     predicted:0\")\n",
        "print(\"actual:1         \", TP_train, \"          \", label_1_num_train- TP_train)\n",
        "print(\"actual:0         \", label_0_num_train-TF_train, \"          \", TF_train)\n",
        "print(\"\")\n",
        "print(\"2. classification report\")\n",
        "print(\"precision : \", TP_train / (label_0_num_train+TP_train-TF_train))\n",
        "print(\"sensitivity : \", TP_train / label_1_num_train)\n",
        "print(\"specificity : \", TF_train / label_0_num_train)\n",
        "print(\"\")\n",
        "print(\"3. accuracy score\")\n",
        "print((TP_train+TF_train)/(label_1_num_train + label_0_num_train))\n",
        "print(\"\")\n",
        "print(\"Testing data\")\n",
        "print(\"\")\n",
        "print(\"1. confusion_matrix\")\n",
        "print\n",
        "print(\"             predicted:1     predicted:0\")\n",
        "print(\"actual:1         \", TP_test, \"          \", label_1_num_test- TP_test)\n",
        "print(\"actual:0         \", label_0_num_test-TF_test, \"          \", TF_test)\n",
        "print(\"\")\n",
        "print(\"2. classification report\")\n",
        "print(\"precision : \", TP_test / (label_0_num_test-TF_test+TP_test))\n",
        "print(\"sensitivity : \", TP_test / label_1_num_test)\n",
        "print(\"specificity : \", TF_test / label_0_num_test)\n",
        "print(\"\")\n",
        "print(\"3. accuracy score\")\n",
        "print((TP_test+TF_test)/(label_1_num_test + label_0_num_test))"
      ],
      "execution_count": null,
      "outputs": [
        {
          "output_type": "stream",
          "text": [
            "Training data\n",
            "\n",
            "1. confusion_matrix\n",
            "             predicted:1     predicted:0\n",
            "actual:1          583            119\n",
            "actual:0          78            621\n",
            "\n",
            "2. classification report\n",
            "precision :  0.8819969742813918\n",
            "sensitivity :  0.8304843304843305\n",
            "specificity :  0.8884120171673819\n",
            "\n",
            "3. accuracy score\n",
            "0.8593861527480371\n",
            "\n",
            "Testing data\n",
            "\n",
            "1. confusion_matrix\n",
            "             predicted:1     predicted:0\n",
            "actual:1          227            72\n",
            "actual:0          71            231\n",
            "\n",
            "2. classification report\n",
            "precision :  0.761744966442953\n",
            "sensitivity :  0.7591973244147158\n",
            "specificity :  0.7649006622516556\n",
            "\n",
            "3. accuracy score\n",
            "0.762063227953411\n"
          ],
          "name": "stdout"
        }
      ]
    }
  ]
}