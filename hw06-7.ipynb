{
  "nbformat": 4,
  "nbformat_minor": 0,
  "metadata": {
    "colab": {
      "name": "Untitled5.ipynb",
      "provenance": [],
      "collapsed_sections": []
    },
    "kernelspec": {
      "name": "python3",
      "display_name": "Python 3"
    }
  },
  "cells": [
    {
      "cell_type": "markdown",
      "metadata": {
        "id": "VSNqwkRl6YDs",
        "colab_type": "text"
      },
      "source": [
        "**Data 파트**"
      ]
    },
    {
      "cell_type": "code",
      "metadata": {
        "id": "fX0J8xaa05pV",
        "colab_type": "code",
        "colab": {}
      },
      "source": [
        "import numpy as np\n",
        "from mpl_toolkits.mplot3d import Axes3D\n",
        "import matplotlib.pyplot as plt\n",
        "from matplotlib import style\n",
        "import csv\n",
        "import math\n",
        "\n",
        "data    = np.genfromtxt(\"/content/drive/My Drive/data-nonlinear.txt\", delimiter=',')\n",
        "\n",
        "x_data       = data[:, 0]\n",
        "y_data       = data[:, 1]\n",
        "label        = data[:, 2]\n",
        "\n",
        "x_label0    = x_data[label == 0]\n",
        "x_label1    = x_data[label == 1]\n",
        "\n",
        "y_label0    = y_data[label == 0]\n",
        "y_label1    = y_data[label == 1]\n",
        "\n",
        "#----------------------------------------------------------------------------------------------\n",
        "\n",
        "\n",
        "theta0 = float( 3.095752713319107 )\n",
        "theta1 = float( 1.6332390219201367 )\n",
        "theta2 = float( 2.240121596331915 )\n",
        "theta3 = float( -3.5704660837272413 )\n",
        "theta4 = float( -7.187835763674985 )\n",
        "theta5 = float( -6.72191403471677 )\n",
        "\n",
        "new_theta0 = float(0)\n",
        "new_theta1 = float(0)\n",
        "new_theta2 = float(0)\n",
        "new_theta3 = float(0)\n",
        "new_theta4 = float(0)\n",
        "new_theta5 = float(0)\n",
        "\n",
        "m = float(len(x_data))\n",
        "\n",
        "learning_rate = float(0.5)\n",
        "\n",
        "gradient_theta0 = float(0)\n",
        "gradient_theta1 = float(0)\n",
        "gradient_theta2 = float(0)\n",
        "gradient_theta3 = float(0)\n",
        "gradient_theta4 = float(0)\n",
        "gradient_theta5 = float(0)\n",
        "\n",
        "space_theta0 = []\n",
        "space_theta1 = []\n",
        "space_theta2 = []\n",
        "space_theta3 = []\n",
        "space_theta4 = []\n",
        "space_theta5 = []\n",
        "\n",
        "for i in range(10000):\n",
        "  for j in range(len(x_data)):\n",
        "    x = x_data[j]\n",
        "    y = y_data[j]\n",
        "    l = label[j]\n",
        "    \n",
        "    sub_func = 1 / (1 + math.exp( -1 * ( theta0 + (theta1 * x) + (theta2 * y) + (theta3 * x * y) + (theta4 * (x**2) ) + (theta5 * (y**2)) )))\n",
        "\n",
        "    gradient_theta0 += (sub_func - l) / m\n",
        "    gradient_theta1 += ( (sub_func - l) * x ) / m\n",
        "    gradient_theta2 += ( (sub_func - l) * y ) / m\n",
        "    gradient_theta3 += ( (sub_func - l) * x * y ) / m\n",
        "    gradient_theta4 += ( (sub_func - l) * (x**2) ) / m\n",
        "    gradient_theta5 += ( (sub_func - l) * (y**2) ) / m\n",
        "\n",
        "  new_theta0 = theta0 - (learning_rate * gradient_theta0)\n",
        "  new_theta1 = theta1 - (learning_rate * gradient_theta1)\n",
        "  new_theta2 = theta2 - (learning_rate * gradient_theta2)\n",
        "  new_theta3 = theta3 - (learning_rate * gradient_theta3)\n",
        "  new_theta4 = theta4 - (learning_rate * gradient_theta4)\n",
        "  new_theta5 = theta5 - (learning_rate * gradient_theta5)\n",
        "  \n",
        "  gradient_theta0 = float(0)\n",
        "  gradient_theta1 = float(0)\n",
        "  gradient_theta2 = float(0)  \n",
        "  gradient_theta3 = float(0)\n",
        "  gradient_theta4 = float(0)\n",
        "  gradient_theta5 = float(0)\n",
        "\n",
        "  theta0 = new_theta0\n",
        "  theta1 = new_theta1\n",
        "  theta2 = new_theta2\n",
        "  theta3 = new_theta3\n",
        "  theta4 = new_theta4\n",
        "  theta5 = new_theta5\n",
        "\n",
        "  space_theta0.append(theta0)\n",
        "  space_theta1.append(theta1)\n",
        "  space_theta2.append(theta2)\n",
        "  space_theta3.append(theta3)\n",
        "  space_theta4.append(theta4)\n",
        "  space_theta5.append(theta5)\n",
        "\n",
        "#print('theta0 = float(', theta0,')')\n",
        "#print('theta1 = float(', theta1,')')\n",
        "#print('theta2 = float(', theta2,')')\n",
        "#print('theta3 = float(', theta3,')')\n",
        "#print('theta4 = float(', theta4,')')\n",
        "#print('theta5 = float(', theta5,')')\n",
        "\n",
        "#------------------------------------------------------------------------------------------------\n",
        "\n",
        "result = float(0)\n",
        "sub_func = float(0)\n",
        "J = []\n",
        "\n",
        "\n",
        "for i in range(len(space_theta0)):\n",
        "  theta0 = space_theta0[i]\n",
        "  theta1 = space_theta1[i]\n",
        "  theta2 = space_theta2[i]\n",
        "  theta3 = space_theta3[i]\n",
        "  theta4 = space_theta4[i]\n",
        "  theta5 = space_theta5[i]\n",
        "\n",
        "  for j in range(len(x_data)):\n",
        "    x = x_data[j]\n",
        "    y = y_data[j]\n",
        "    l = label[j]\n",
        "    sub_func = 1 / (1 + math.exp( -1 * ( theta0 + (theta1 * x) + (theta2 * y) + (theta3 * x * y) + (theta4 * (x**2) ) + (theta5 * (y**2) ) ) ))\n",
        "\n",
        "    if (sub_func >= 1):\n",
        "      sub_func = 0.99999\n",
        "\n",
        "\n",
        "    left = float(math.log(sub_func))\n",
        "    right = float(math.log(1 - sub_func))             # 바로 result에 삽입했더니 문제가 생겨서 left와 right로 쪼개서 식에 대입함.\n",
        "                                                      # 세세히 확인해보니 right파트에서 sub_func이 반올림 되서 1의 값을 가지는 경우가 생기는데\n",
        "                                                      # 이 값이 log (1 - right) 가 되면서 마이너스 무한대의 값을 가져서 에러가 남\n",
        "                                                      # 따라서 if문을 통해서 1이 아닌 0.99999로 값을 바꿔주었음.\n",
        "\n",
        "    result += ( (-1 * l * left) + ((l - 1) * right) ) / m\n",
        "  J.append(result)\n",
        "  result = float(0)\n",
        "\n",
        "  #----------------------------------------------------------------------------------------------------\n",
        "\n",
        "basis = float(-1)\n",
        "accur = []\n",
        "total_num = m\n",
        "corre_num = 0\n",
        "new_accur = float(0)\n",
        "\n",
        "\n",
        "for i in range(len(space_theta0)):\n",
        "\n",
        "  theta0 = space_theta0[i]\n",
        "  theta1 = space_theta1[i]\n",
        "  theta2 = space_theta2[i]\n",
        "  theta3 = space_theta3[i]\n",
        "  theta4 = space_theta4[i]\n",
        "  theta5 = space_theta5[i]\n",
        "\n",
        "  for j in range(len(x_data)):\n",
        "\n",
        "    x = x_data[j]\n",
        "    y = y_data[j]\n",
        "    l = label[j]\n",
        "\n",
        "    if theta0 + (theta1 * x) + (theta2 * y) + (theta3 * x * y) + (theta4 * (x**2)) + (theta5 * (y**2)) <= 0:         # x제곱과 y제곱의 계수가 음수이므로 레이블 조건이 역으로 바뀌어야한다.\n",
        "      basis = 0                                                                                                      # 따라서 0보다 작거나 같을때는 레이블이 0, 0보다 클때는 레이블이 1이여야 한다.\n",
        "      if basis == l:                                                                                                 # 예를 들어서 x^2 + y^2 - 4 < 0 이면 원점을 중심으로 반지름이 2인 원 안에 해당하는 게 레이블이 1이여야 하지만\n",
        "        corre_num = corre_num + 1                                                                                    # 주어진 식에서 x제곱과 y제곱의 계수가 음수이므로\n",
        "    elif theta0 + (theta1 * x) + (theta2 * y) + (theta3 * x * y) + (theta4 * (x**2)) + (theta5 * (y**2)) > 0:        # -x^2 + -y^2 + 4 에서의 방정식은 0보다 클 때 레이블이 1이여야 한다.\n",
        "      basis = 1\n",
        "      if basis == l:\n",
        "        corre_num = corre_num + 1\n",
        "\n",
        "    if basis == -1:                                                                                                  # 위의 if문에 적용되지 않아 basis값이 바뀌지 않을 경우 코딩이 잘못 되었다는 것을 알린다.\n",
        "      print('에러발생')\n",
        "  \n",
        "  new_accur = ( corre_num / total_num ) * 100\n",
        "  accur.append(new_accur)\n",
        "\n",
        "  corre_num = 0\n",
        "  basis = float(-1)\n",
        "\n",
        "#-----------------------------------------------------------------------------------------------------\n",
        "\n",
        "store_x = []\n",
        "store_y = []\n",
        "x1 = np.arange(float(-1),float(1.25),float(0.01))\n",
        "y1 = np.arange(float(-1),float(1.25),float(0.01))\n",
        "for i in range(len(x1)):\n",
        "  x = x1[i]\n",
        "  for j in range(len(y1)):\n",
        "    y = y1[j]\n",
        "    if theta0 + (theta1 * x) + (theta2 * y) + (theta3 * x * y) + (theta4 * (x**2)) + (theta5 * (y**2)) <= 0.1:\n",
        "      if theta0 + (theta1 * x) + (theta2 * y) + (theta3 * x * y) + (theta4 * (x**2)) + (theta5 * (y**2)) > -0.1:\n",
        "        store_x.append(x)\n",
        "        store_y.append(y)"
      ],
      "execution_count": 0,
      "outputs": []
    },
    {
      "cell_type": "markdown",
      "metadata": {
        "id": "UeGjsI-p4bF3",
        "colab_type": "text"
      },
      "source": [
        "**Task 1**"
      ]
    },
    {
      "cell_type": "code",
      "metadata": {
        "id": "ex7io3Gk4YZN",
        "colab_type": "code",
        "outputId": "d084c863-08c7-4ffc-81ee-95976a6149cd",
        "colab": {
          "base_uri": "https://localhost:8080/",
          "height": 497
        }
      },
      "source": [
        "plt.figure(figsize=(8, 8))\n",
        "plt.xlabel('X Data')\n",
        "plt.ylabel('Y Data')\n",
        "plt.scatter(x_label0, y_label0, alpha=0.3, c='b')\n",
        "plt.scatter(x_label1, y_label1, alpha=0.3, c='r')\n",
        "plt.show()"
      ],
      "execution_count": 0,
      "outputs": [
        {
          "output_type": "display_data",
          "data": {
            "image/png": "[encoded data removed]",
            "text/plain": [
              "<Figure size 576x576 with 1 Axes>"
            ]
          },
          "metadata": {
            "tags": [],
            "needs_background": "light"
          }
        }
      ]
    },
    {
      "cell_type": "markdown",
      "metadata": {
        "id": "-LM8BEf54ogn",
        "colab_type": "text"
      },
      "source": [
        "**Task 2**\n"
      ]
    },
    {
      "cell_type": "code",
      "metadata": {
        "id": "AwdzBAjw4mxZ",
        "colab_type": "code",
        "outputId": "cf210a8b-7c2c-4f22-ac2c-bbcb7ac143b6",
        "colab": {
          "base_uri": "https://localhost:8080/",
          "height": 35
        }
      },
      "source": [
        "print('g(x,y,theta) = ', theta0, '+', theta1, ' x + ', theta2, ' y + ', theta3, ' xy +', theta4, ' x^2 + ', theta5, ' y^2 ')"
      ],
      "execution_count": 0,
      "outputs": [
        {
          "output_type": "stream",
          "text": [
            "g(x,y,theta) =  5.116376742218597 + 3.206104335753032  x +  4.1169076393785895  y +  -7.4293942614541635  xy + -11.902331696641259  x^2 +  -11.691311199851663  y^2 \n"
          ],
          "name": "stdout"
        }
      ]
    },
    {
      "cell_type": "markdown",
      "metadata": {
        "id": "D8OHSjeV5PkW",
        "colab_type": "text"
      },
      "source": [
        "**Task 3**"
      ]
    },
    {
      "cell_type": "code",
      "metadata": {
        "id": "uuvV_hWW5OWm",
        "colab_type": "code",
        "outputId": "105e4b5a-210a-44bd-dd6e-11035fd14533",
        "colab": {
          "base_uri": "https://localhost:8080/",
          "height": 279
        }
      },
      "source": [
        "x = range(10000)\n",
        "plt.xlabel('t(iteration)')\n",
        "plt.ylabel('J(Cost function)')\n",
        "plt.plot(x, J, 'blue')\n",
        "plt.show()"
      ],
      "execution_count": 0,
      "outputs": [
        {
          "output_type": "display_data",
          "data": {
            "image/png": "[encoded data removed]",
            "text/plain": [
              "<Figure size 432x288 with 1 Axes>"
            ]
          },
          "metadata": {
            "tags": [],
            "needs_background": "light"
          }
        }
      ]
    },
    {
      "cell_type": "markdown",
      "metadata": {
        "id": "Qq7UR58b5iaS",
        "colab_type": "text"
      },
      "source": [
        "**Task 4**"
      ]
    },
    {
      "cell_type": "code",
      "metadata": {
        "id": "J0YrH0g65Zb2",
        "colab_type": "code",
        "outputId": "0baaa627-64dc-4010-db98-6da02494a570",
        "colab": {
          "base_uri": "https://localhost:8080/",
          "height": 279
        }
      },
      "source": [
        "x = range(10000)\n",
        "plt.xlabel('t(iteration)')\n",
        "plt.ylabel('training accuracy')\n",
        "plt.plot(x, accur, 'red')\n",
        "plt.show()"
      ],
      "execution_count": 0,
      "outputs": [
        {
          "output_type": "display_data",
          "data": {
            "image/png": "[encoded data removed]",
            "text/plain": [
              "<Figure size 432x288 with 1 Axes>"
            ]
          },
          "metadata": {
            "tags": [],
            "needs_background": "light"
          }
        }
      ]
    },
    {
      "cell_type": "markdown",
      "metadata": {
        "id": "_vCa9ubX5m1z",
        "colab_type": "text"
      },
      "source": [
        "**Task 5**"
      ]
    },
    {
      "cell_type": "code",
      "metadata": {
        "id": "Fq37cKrC5laL",
        "colab_type": "code",
        "outputId": "3dffb4e0-ea90-46d4-b203-0ba501533061",
        "colab": {
          "base_uri": "https://localhost:8080/",
          "height": 35
        }
      },
      "source": [
        "print('training accuracy =', accur[9999], '%')"
      ],
      "execution_count": 0,
      "outputs": [
        {
          "output_type": "stream",
          "text": [
            "training accuracy = 85.59322033898306 %\n"
          ],
          "name": "stdout"
        }
      ]
    },
    {
      "cell_type": "code",
      "metadata": {
        "id": "f8uDC1vm5zGi",
        "colab_type": "code",
        "outputId": "5413d962-0dd0-44a8-b13e-9cc963c928c5",
        "colab": {
          "base_uri": "https://localhost:8080/",
          "height": 388
        }
      },
      "source": [
        "plt.figure(figsize=(6, 6))\n",
        "plt.xlabel('X Data')\n",
        "plt.ylabel('Y Data')\n",
        "plt.scatter(store_x, store_y, c='green', s=1.5)\n",
        "plt.scatter(x_label0, y_label0, alpha=0.3, c='b')\n",
        "plt.scatter(x_label1, y_label1, alpha=0.3, c='r')\n",
        "plt.show()"
      ],
      "execution_count": 0,
      "outputs": [
        {
          "output_type": "display_data",
          "data": {
            "image/png": "[encoded data removed]",
            "text/plain": [
              "<Figure size 432x432 with 1 Axes>"
            ]
          },
          "metadata": {
            "tags": [],
            "needs_background": "light"
          }
        }
      ]
    }
  ]
}