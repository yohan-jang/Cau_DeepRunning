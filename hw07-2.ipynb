{
  "nbformat": 4,
  "nbformat_minor": 0,
  "metadata": {
    "colab": {
      "name": "Untitled7.ipynb",
      "provenance": [],
      "collapsed_sections": []
    },
    "kernelspec": {
      "name": "python3",
      "display_name": "Python 3"
    }
  },
  "cells": [
    {
      "cell_type": "code",
      "metadata": {
        "id": "prLTJH0k-OAh",
        "colab_type": "code",
        "outputId": "b52b38e0-278f-41ed-ba2a-53cb7d107131",
        "colab": {
          "base_uri": "https://localhost:8080/",
          "height": 127
        }
      },
      "source": [
        "from google.colab import drive\n",
        "drive.mount('/content/drive')"
      ],
      "execution_count": 0,
      "outputs": [
        {
          "output_type": "stream",
          "text": [
            "Go to this URL in a browser: https://accounts.google.com/o/oauth2/auth?client_id=947318989803-6bn6qk8qdgf4n4g3pfee6491hc0brc4i.apps.googleusercontent.com&redirect_uri=urn%3aietf%3awg%3aoauth%3a2.0%3aoob&response_type=code&scope=email%20https%3a%2f%2fwww.googleapis.com%2fauth%2fdocs.test%20https%3a%2f%2fwww.googleapis.com%2fauth%2fdrive%20https%3a%2f%2fwww.googleapis.com%2fauth%2fdrive.photos.readonly%20https%3a%2f%2fwww.googleapis.com%2fauth%2fpeopleapi.readonly\n",
            "\n",
            "Enter your authorization code:\n",
            "··········\n",
            "Mounted at /content/drive\n"
          ],
          "name": "stdout"
        }
      ]
    },
    {
      "cell_type": "code",
      "metadata": {
        "id": "UEIYkYIu_HVd",
        "colab_type": "code",
        "outputId": "681d1a95-74fb-4df3-dcb0-b692c838cd25",
        "colab": {
          "base_uri": "https://localhost:8080/",
          "height": 497
        }
      },
      "source": [
        "import numpy as np\n",
        "from mpl_toolkits.mplot3d import Axes3D\n",
        "import matplotlib.pyplot as plt\n",
        "from matplotlib import style\n",
        "import csv\n",
        "import math\n",
        "\n",
        "data    = np.genfromtxt(\"/content/drive/My Drive/data-nonlinear.txt\", delimiter=',')\n",
        "\n",
        "x_data       = data[:, 0]\n",
        "y_data       = data[:, 1]\n",
        "label        = data[:, 2]\n",
        "\n",
        "x_label0    = x_data[label == 0]\n",
        "x_label1    = x_data[label == 1]\n",
        "\n",
        "y_label0    = y_data[label == 0]\n",
        "y_label1    = y_data[label == 1]\n",
        "\n",
        "plt.figure(figsize=(8, 8))\n",
        "plt.xlabel('X Data')\n",
        "plt.ylabel('Y Data')\n",
        "plt.scatter(x_label0, y_label0, alpha=0.3, c='b')\n",
        "plt.scatter(x_label1, y_label1, alpha=0.3, c='r')\n",
        "plt.show()"
      ],
      "execution_count": 0,
      "outputs": [
        {
          "output_type": "display_data",
          "data": {
            "image/png": "[encoded data removed]",
            "text/plain": [
              "<Figure size 576x576 with 1 Axes>"
            ]
          },
          "metadata": {
            "tags": [],
            "needs_background": "light"
          }
        }
      ]
    },
    {
      "cell_type": "code",
      "metadata": {
        "id": "rqMggCed_pdS",
        "colab_type": "code",
        "colab": {}
      },
      "source": [
        "theta = []\n",
        "new_theta = []\n",
        "ramda = 100\n",
        "gradient_theta = []\n",
        "for i in range(100):\n",
        "  theta.append(1)\n",
        "  new_theta.append(0)\n",
        "  gradient_theta.append(0)\n",
        "\n",
        "m = float(len(x_data))\n",
        "learning_rate = float(0.001)\n",
        "\n",
        "J0 = []\n",
        "for i in range(len(x_data)):\n",
        "  J0.append(0)\n"
      ],
      "execution_count": 0,
      "outputs": []
    },
    {
      "cell_type": "code",
      "metadata": {
        "id": "gpiXJJ27p43R",
        "colab_type": "code",
        "colab": {}
      },
      "source": [
        "#-------------------------------------------------------------------------------\n",
        "\n",
        "for i in range(len(x_data)):\n",
        "  x = x_data[i]\n",
        "  y = y_data[i]\n",
        "  for j in range(10):\n",
        "    for k in range(10):\n",
        "      J0[i] += theta[10*j + k] * (x ** j) * (y ** k)\n",
        "\n",
        "for i in range(len(x_data)):\n",
        "  J0[i] = 1 / (1 + np.exp( -1 * (J0[i])))\n",
        "\n",
        "theta_space0 = []\n",
        "theta_space1 = []\n",
        "for i in range(10000):\n",
        "  theta_space0.append(0)\n",
        "\n",
        "for i in range(100):\n",
        "  theta_space1.append(theta_space0)\n",
        "\n",
        "#print(theta_space1[99][9999])"
      ],
      "execution_count": 0,
      "outputs": []
    },
    {
      "cell_type": "code",
      "metadata": {
        "id": "IUVpej4Pp5JD",
        "colab_type": "code",
        "colab": {}
      },
      "source": [
        "#-------------------------------------------------------------------------------\n",
        "\n",
        "\n",
        "for i in range(10000):\n",
        "  for j in range(len(x_data)):\n",
        "    x = x_data[j]\n",
        "    y = y_data[j]\n",
        "    l = label[j]\n",
        "\n",
        "    for k in range(len(gradient_theta)):\n",
        "      gradient_theta[k] += ( (J0[j] - l) * (x ** (k//10)) * ( y ** (k%10) )) / m\n",
        "    \n",
        "  for j in range(len(theta)):\n",
        "    new_theta[j] =  ( ( 1 - (learning_rate * ramda) ) * theta[j] ) - (learning_rate * gradient_theta[j])\n",
        "\n",
        "  for j in range(len(theta)):\n",
        "    gradient_theta[j] = float(0)\n",
        "    theta[j] = new_theta[j]\n",
        "    theta_space1[j][i] = theta[j]"
      ],
      "execution_count": 0,
      "outputs": []
    },
    {
      "cell_type": "code",
      "metadata": {
        "id": "-qxNeg_L3TYX",
        "colab_type": "code",
        "outputId": "0fd21c27-f033-4964-90b9-41ea49f3bf09",
        "colab": {
          "base_uri": "https://localhost:8080/",
          "height": 297
        }
      },
      "source": [
        "mul_theta = []\n",
        "for i in range(10000):\n",
        "  mul_theta.append(0)\n",
        "\n",
        "for i in range(10000):\n",
        "  for j in range(100):\n",
        "    mul_theta[i] += (theta_space1[j][i] ** 2)\n",
        "\n",
        "J1 = []\n",
        "for i in range (10000):\n",
        "  J1.append(0)\n",
        "\n",
        "for i in range (10000):\n",
        "  for j in range (len(x_data)):\n",
        "    x = x_data[j]\n",
        "    y = y_data[j]\n",
        "    l = label[j]\n",
        "\n",
        "    J1[i] += (-1 * l * np.log( J0[j] ) - ( ( 1 - l ) * ( np.log( 1 - J0[j] ) ) ) ) / m\n",
        "  \n",
        "  J1[i] += (ramda / 2) * mul_theta[i]\n",
        "\n",
        "x = range(10000)\n",
        "plt.xlabel('t(iteration)')\n",
        "plt.ylabel('J(Cost function')\n",
        "plt.plot(x, J1, 'blue')\n",
        "plt.show()\n",
        "\n",
        "print('last value = ', J1[9999])"
      ],
      "execution_count": 0,
      "outputs": [
        {
          "output_type": "display_data",
          "data": {
            "image/png": "[encoded data removed]",
            "text/plain": [
              "<Figure size 432x288 with 1 Axes>"
            ]
          },
          "metadata": {
            "tags": [],
            "needs_background": "light"
          }
        },
        {
          "output_type": "stream",
          "text": [
            "last value =  2.5599432687552017\n"
          ],
          "name": "stdout"
        }
      ]
    }
  ]
}