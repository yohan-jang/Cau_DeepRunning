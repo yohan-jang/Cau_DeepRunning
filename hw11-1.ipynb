{
  "nbformat": 4,
  "nbformat_minor": 0,
  "metadata": {
    "colab": {
      "name": "Untitled13.ipynb",
      "provenance": [],
      "collapsed_sections": []
    },
    "kernelspec": {
      "name": "python3",
      "display_name": "Python 3"
    },
    "accelerator": "GPU"
  },
  "cells": [
    {
      "cell_type": "code",
      "metadata": {
        "id": "wqN7gqL-9dVY",
        "colab_type": "code",
        "colab": {
          "base_uri": "https://localhost:8080/",
          "height": 35
        },
        "outputId": "e5d7cb14-9425-40d9-d4d1-a498fb63c45e"
      },
      "source": [
        "from google.colab import drive\n",
        "drive.mount('/content/drive')"
      ],
      "execution_count": null,
      "outputs": [
        {
          "output_type": "stream",
          "text": [
            "Drive already mounted at /content/drive; to attempt to forcibly remount, call drive.mount(\"/content/drive\", force_remount=True).\n"
          ],
          "name": "stdout"
        }
      ]
    },
    {
      "cell_type": "code",
      "metadata": {
        "id": "JlvtoZ4p9Dky",
        "colab_type": "code",
        "colab": {
          "base_uri": "https://localhost:8080/",
          "height": 89
        },
        "outputId": "18482848-f9ad-4110-b75c-3f9c11859adc"
      },
      "source": [
        "import numpy as np\n",
        "import re\n",
        "import nltk\n",
        "from sklearn.datasets import load_files\n",
        "nltk.download('stopwords')\n",
        "nltk.download('wordnet')\n",
        "import pickle\n",
        "from nltk.corpus import stopwords\n",
        "from nltk.stem import WordNetLemmatizer\n",
        "from sklearn.feature_extraction.text import CountVectorizer\n",
        "from sklearn.feature_extraction.text import TfidfTransformer\n",
        "from sklearn.model_selection import train_test_split\n",
        "\n",
        "\n",
        "review_data = load_files(r\"/content/drive/My Drive/movie_review\")\n",
        "X, y = review_data.data, review_data.target\n",
        "\n",
        "documents = []\n",
        "\n",
        "stemmer = WordNetLemmatizer()\n",
        "\n",
        "for sen in range(0, len(X)):\n",
        "    # Remove all the special characters\n",
        "    document = re.sub(r'\\W', ' ', str(X[sen]))\n",
        "    \n",
        "    # remove all single characters\n",
        "    document = re.sub(r'\\s+[a-zA-Z]\\s+', ' ', document)\n",
        "    \n",
        "    # Remove single characters from the start\n",
        "    document = re.sub(r'\\^[a-zA-Z]\\s+', ' ', document) \n",
        "    \n",
        "    # Substituting multiple spaces with single space\n",
        "    document = re.sub(r'\\s+', ' ', document, flags=re.I)\n",
        "    \n",
        "    # Removing prefixed 'b'\n",
        "    document = re.sub(r'^b\\s+', '', document)\n",
        "    \n",
        "    # Converting to Lowercase\n",
        "    document = document.lower()\n",
        "    \n",
        "    # Lemmatization\n",
        "    document = document.split()\n",
        "    document = [stemmer.lemmatize(word) for word in document]\n",
        "    document = ' '.join(document)\n",
        "    \n",
        "    documents.append(document)\n",
        "\n",
        "vectorizer = CountVectorizer(max_features=1500, min_df=5, max_df=0.7, stop_words=stopwords.words('english'))\n",
        "X = vectorizer.fit_transform(documents).toarray()\n",
        "\n",
        "tfidfconverter = TfidfTransformer()\n",
        "X = tfidfconverter.fit_transform(X).toarray()\n",
        "\n",
        "X_train, X_test, y_train, y_test = train_test_split(X, y, test_size=0.3, shuffle=False)\n"
      ],
      "execution_count": null,
      "outputs": [
        {
          "output_type": "stream",
          "text": [
            "[nltk_data] Downloading package stopwords to /root/nltk_data...\n",
            "[nltk_data]   Unzipping corpora/stopwords.zip.\n",
            "[nltk_data] Downloading package wordnet to /root/nltk_data...\n",
            "[nltk_data]   Unzipping corpora/wordnet.zip.\n"
          ],
          "name": "stdout"
        }
      ]
    },
    {
      "cell_type": "code",
      "metadata": {
        "id": "WYYo_72vT7bn",
        "colab_type": "code",
        "colab": {}
      },
      "source": [
        "u0 = []\n",
        "u0_space = []\n",
        "\n",
        "ramda = 10\n",
        "\n",
        "gradient_u0 = []\n",
        "\n",
        "m = len(X_train[0])\n",
        "\n",
        "learning_rate = 0.01\n",
        "\n",
        "for i in range(len(X_train[0])):\n",
        "    gradient_u0.append(0)\n",
        "\n",
        "for i in range(len(X_train[0])):\n",
        "    u0.append(1)\n",
        "\n",
        "for p in range(2000):\n",
        "    for i in range(len(X_train)):\n",
        "        mid_term0 = 0\n",
        "        label = y_train[i]\n",
        "\n",
        "        for j in range(len(X_train[0])):\n",
        "            mid_term0 += X_train[i][j] * u0[j]\n",
        "\n",
        "        mid_term0 = 1 / (1 + np.exp(-1 * mid_term0))\n",
        "\n",
        "        for k in range(len(X_train[0])):\n",
        "            gradient_u0[k] += ( ( mid_term0 - label ) * X_train[i][k] ) / m\n",
        "\n",
        "    for i in range(len(u0)):\n",
        "        u0[i] = ( ( 1 - (learning_rate * ramda) ) * u0[i] ) - (learning_rate * gradient_u0[i])\n",
        "        u0_space.append(u0[i])\n",
        "        gradient_u0[i] = 0\n",
        "\n",
        "u_space = []\n",
        "\n",
        "for i in range(2000):\n",
        "    temp = u0_space[1500*i:1500*(i+1)]\n",
        "    u_space.append(temp)"
      ],
      "execution_count": null,
      "outputs": []
    },
    {
      "cell_type": "code",
      "metadata": {
        "id": "OilEOItLnNt3",
        "colab_type": "code",
        "colab": {}
      },
      "source": [
        "result_space = []\n",
        "result = 0\n",
        "result1_space = []\n",
        "result1 = 0\n",
        "\n",
        "for i in range(2000):\n",
        "    for j in range(len(X_train)):\n",
        "        label = y_train[j]\n",
        "        theta_sum = 0\n",
        "        result_sum = 0\n",
        "        for k in range(len(X_train[0]):\n",
        "            result_sum += u_space[i][k] * X_train[j][k]\n",
        "            if ( j = 0 ):\n",
        "                theta_sum += u_space[i][k] ** 2\n",
        "        result_sum = 1 / (1 + np.exp(-1 * result_sum))\n",
        "        result +=  ( (-1 * label * np.log(result_sum)) - ( (1 - label) * np.log(1-np.log(1-result_sum) ) ) ) / m\n",
        "    result += (ramda / 2) * theta_sum\n",
        "    result_space.append(result)\n",
        "    result = 0\n",
        "\n",
        "for i in range(2000):\n",
        "    for j in range(len(X_test)):\n",
        "        label = y_test[j]\n",
        "        theta_sum1 = 0\n",
        "        result_sum1 = 0\n",
        "        for k in range(len(X_test[0]):\n",
        "            result_sum1 += u_space[i][k] * X_test[j][k]\n",
        "            if ( j = 0 ):\n",
        "                theta_sum1 += u_space[i][k] ** 2\n",
        "        result_sum1 = 1 / (1 + np.exp(-1 * result_sum1))\n",
        "        result1 +=  ( (-1 * label * np.log(result_sum1)) - ( (1 - label) * np.log(1-np.log(1-result_sum1) ) ) ) / m\n",
        "    result1 += (ramda / 2) * theta_sum1\n",
        "    result1_space.append(result1)\n",
        "    result1 = 0\n",
        "\n",
        "x = range(2000)\n",
        "plt.xlabel('t(iteration')\n",
        "plt.ylabel('J(Cost function')\n",
        "plt.plot(x, result_space, 'blue', label='training_loss')\n",
        "plt.plot(x, result1_space, 'red', label='test_loss')\n",
        "plt.legend(loc = 0)\n",
        "plt.show()"
      ],
      "execution_count": null,
      "outputs": []
    },
    {
      "cell_type": "code",
      "metadata": {
        "id": "Krv-u74FxRu7",
        "colab_type": "code",
        "colab": {}
      },
      "source": [
        "correct_space = []\n",
        "correct1_space = []\n",
        "\n",
        "for i in range(2000):\n",
        "    correct = 0\n",
        "    for j in range(len(X_train)):\n",
        "        label = y_train[j]\n",
        "        result_sum = 0\n",
        "        for k in range(len(X_train[0]):\n",
        "            result_sum += u_space[i][k] * X_train[j][k]\n",
        "        result_sum = 1 / (1 + np.exp(-1 * result_sum))\n",
        "        if (result_sum >= 1/2):\n",
        "            im_label = 1\n",
        "        else:\n",
        "            im_label = 0\n",
        "\n",
        "        if (im_label == label):\n",
        "            correct += 1\n",
        "    correct_space.append( (correct / m) * 100 )\n",
        "\n",
        "for i in range(2000):\n",
        "    correct = 0\n",
        "    for j in range(len(X_test)):\n",
        "        label = y_test[j]\n",
        "        result_sum = 0\n",
        "        for k in range(len(X_test[0]):\n",
        "            result_sum += u_space[i][k] * X_test[j][k]\n",
        "        result_sum = 1 / (1 + np.exp(-1 * result_sum))\n",
        "        if (result_sum >= 1/2):\n",
        "            im_label = 1\n",
        "        else:\n",
        "            im_label = 0\n",
        "\n",
        "        if (im_label == label):\n",
        "            correct += 1\n",
        "    correct1_space.append( (correct / m) * 100 )"
      ],
      "execution_count": null,
      "outputs": []
    }
  ]
}