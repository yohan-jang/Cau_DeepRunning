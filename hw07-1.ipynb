{
  "nbformat": 4,
  "nbformat_minor": 0,
  "metadata": {
    "colab": {
      "name": "Untitled7.ipynb",
      "provenance": [],
      "collapsed_sections": []
    },
    "kernelspec": {
      "name": "python3",
      "display_name": "Python 3"
    }
  },
  "cells": [
    {
      "cell_type": "code",
      "metadata": {
        "id": "prLTJH0k-OAh",
        "colab_type": "code",
        "outputId": "067e5eef-4275-4c5f-f3d4-c06d7b6798c4",
        "colab": {
          "base_uri": "https://localhost:8080/",
          "height": 127
        }
      },
      "source": [
        "from google.colab import drive\n",
        "drive.mount('/content/drive')"
      ],
      "execution_count": 0,
      "outputs": [
        {
          "output_type": "stream",
          "text": [
            "Go to this URL in a browser: https://accounts.google.com/o/oauth2/auth?client_id=947318989803-6bn6qk8qdgf4n4g3pfee6491hc0brc4i.apps.googleusercontent.com&redirect_uri=urn%3aietf%3awg%3aoauth%3a2.0%3aoob&response_type=code&scope=email%20https%3a%2f%2fwww.googleapis.com%2fauth%2fdocs.test%20https%3a%2f%2fwww.googleapis.com%2fauth%2fdrive%20https%3a%2f%2fwww.googleapis.com%2fauth%2fdrive.photos.readonly%20https%3a%2f%2fwww.googleapis.com%2fauth%2fpeopleapi.readonly\n",
            "\n",
            "Enter your authorization code:\n",
            "··········\n",
            "Mounted at /content/drive\n"
          ],
          "name": "stdout"
        }
      ]
    },
    {
      "cell_type": "code",
      "metadata": {
        "id": "UEIYkYIu_HVd",
        "colab_type": "code",
        "outputId": "3d39743f-c321-456d-ed80-e12bf2a62cca",
        "colab": {
          "base_uri": "https://localhost:8080/",
          "height": 497
        }
      },
      "source": [
        "import numpy as np\n",
        "from mpl_toolkits.mplot3d import Axes3D\n",
        "import matplotlib.pyplot as plt\n",
        "from matplotlib import style\n",
        "import csv\n",
        "import math\n",
        "\n",
        "data    = np.genfromtxt(\"/content/drive/My Drive/data-nonlinear.txt\", delimiter=',')\n",
        "\n",
        "x_data       = data[:, 0]\n",
        "y_data       = data[:, 1]\n",
        "label        = data[:, 2]\n",
        "\n",
        "x_label0    = x_data[label == 0]\n",
        "x_label1    = x_data[label == 1]\n",
        "\n",
        "y_label0    = y_data[label == 0]\n",
        "y_label1    = y_data[label == 1]\n",
        "\n",
        "plt.figure(figsize=(8, 8))\n",
        "plt.xlabel('X Data')\n",
        "plt.ylabel('Y Data')\n",
        "plt.scatter(x_label0, y_label0, alpha=0.3, c='b')\n",
        "plt.scatter(x_label1, y_label1, alpha=0.3, c='r')\n",
        "plt.show()"
      ],
      "execution_count": 0,
      "outputs": [
        {
          "output_type": "display_data",
          "data": {
            "image/png": "[encoded data removed]",
            "text/plain": [
              "<Figure size 576x576 with 1 Axes>"
            ]
          },
          "metadata": {
            "tags": [],
            "needs_background": "light"
          }
        }
      ]
    },
    {
      "cell_type": "code",
      "metadata": {
        "id": "rqMggCed_pdS",
        "colab_type": "code",
        "outputId": "9cf51a53-fdc7-4e36-e250-83d7ab476a27",
        "colab": {
          "base_uri": "https://localhost:8080/",
          "height": 377
        }
      },
      "source": [
        "n = 10\n",
        "a = [[0]*n for i in range(n)]\n",
        "for p in range(n):\n",
        "  for q in range(n):\n",
        "    a[p][q] = 1\n",
        "#   print(\"%3d\"%(a[p][q]),end=\" \")\n",
        "#  print(\"\\n\")\n",
        "\n"
      ],
      "execution_count": 0,
      "outputs": [
        {
          "output_type": "stream",
          "text": [
            "  1   1   1   1   1   1   1   1   1   1 \n",
            "\n",
            "  1   1   1   1   1   1   1   1   1   1 \n",
            "\n",
            "  1   1   1   1   1   1   1   1   1   1 \n",
            "\n",
            "  1   1   1   1   1   1   1   1   1   1 \n",
            "\n",
            "  1   1   1   1   1   1   1   1   1   1 \n",
            "\n",
            "  1   1   1   1   1   1   1   1   1   1 \n",
            "\n",
            "  1   1   1   1   1   1   1   1   1   1 \n",
            "\n",
            "  1   1   1   1   1   1   1   1   1   1 \n",
            "\n",
            "  1   1   1   1   1   1   1   1   1   1 \n",
            "\n",
            "  1   1   1   1   1   1   1   1   1   1 \n",
            "\n"
          ],
          "name": "stdout"
        }
      ]
    }
  ]
}