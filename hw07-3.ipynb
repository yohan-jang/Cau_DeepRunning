{
  "nbformat": 4,
  "nbformat_minor": 0,
  "metadata": {
    "colab": {
      "name": "Untitled7.ipynb",
      "provenance": [],
      "collapsed_sections": []
    },
    "kernelspec": {
      "name": "python3",
      "display_name": "Python 3"
    }
  },
  "cells": [
    {
      "cell_type": "code",
      "metadata": {
        "id": "prLTJH0k-OAh",
        "colab_type": "code",
        "outputId": "2d59a174-092b-4d22-8836-d505cb7e46a8",
        "colab": {
          "base_uri": "https://localhost:8080/",
          "height": 127
        }
      },
      "source": [
        "from google.colab import drive\n",
        "drive.mount('/content/drive')"
      ],
      "execution_count": 0,
      "outputs": [
        {
          "output_type": "stream",
          "text": [
            "Go to this URL in a browser: https://accounts.google.com/o/oauth2/auth?client_id=947318989803-6bn6qk8qdgf4n4g3pfee6491hc0brc4i.apps.googleusercontent.com&redirect_uri=urn%3aietf%3awg%3aoauth%3a2.0%3aoob&response_type=code&scope=email%20https%3a%2f%2fwww.googleapis.com%2fauth%2fdocs.test%20https%3a%2f%2fwww.googleapis.com%2fauth%2fdrive%20https%3a%2f%2fwww.googleapis.com%2fauth%2fdrive.photos.readonly%20https%3a%2f%2fwww.googleapis.com%2fauth%2fpeopleapi.readonly\n",
            "\n",
            "Enter your authorization code:\n",
            "··········\n",
            "Mounted at /content/drive\n"
          ],
          "name": "stdout"
        }
      ]
    },
    {
      "cell_type": "code",
      "metadata": {
        "id": "IUVpej4Pp5JD",
        "colab_type": "code",
        "colab": {}
      },
      "source": [
        "import numpy as np\n",
        "from mpl_toolkits.mplot3d import Axes3D\n",
        "import matplotlib.pyplot as plt\n",
        "from matplotlib import style\n",
        "import csv\n",
        "import math\n",
        "\n",
        "data    = np.genfromtxt(\"/content/drive/My Drive/data-nonlinear.txt\", delimiter=',')\n",
        "\n",
        "x_data       = data[:, 0]\n",
        "y_data       = data[:, 1]\n",
        "label        = data[:, 2]\n",
        "\n",
        "x_label0    = x_data[label == 0]\n",
        "x_label1    = x_data[label == 1]\n",
        "\n",
        "y_label0    = y_data[label == 0]\n",
        "y_label1    = y_data[label == 1]\n",
        "\n",
        "#real_corre_space = []\n",
        "#real_corre_space1 = []\n",
        "real_corre_space2 = []\n",
        "for i in range(9999):\n",
        "  #real_corre_space.append(0)\n",
        "  #real_corre_space1.append(0)\n",
        "  real_corre_space2.append(0)\n",
        "\n",
        "theta = []\n",
        "new_theta = []\n",
        "ramda = 100\n",
        "mul_theta = []\n",
        "#result_space = []\n",
        "#result_space1 = []\n",
        "#result_space2 = []\n",
        "result_space_null = []\n",
        "#corre_space = []\n",
        "#corre_space1 = []\n",
        "corre_space2 = []\n",
        "gradient_theta = []\n",
        "result = 0\n",
        "corre_num = 0\n",
        "\n",
        "for i in range(10000):\n",
        "  mul_theta.append(0)\n",
        "\n",
        "for i in range(100):\n",
        "  theta.append(0)\n",
        "  new_theta.append(0)\n",
        "  gradient_theta.append(0)\n",
        "\n",
        "m = float(len(x_data))\n",
        "\n",
        "learning_rate = float(0.001)\n",
        "\n",
        "J0 = 0\n",
        "space1 = []\n",
        "\n",
        "for i in range(10000):\n",
        "  \n",
        "  #if result != 0:\n",
        "  #  result_space_null.append(result)\n",
        "    \n",
        "  for j in range(len(x_data)):\n",
        "    x = x_data[j]\n",
        "    y = y_data[j]\n",
        "    l = label[j]\n",
        "\n",
        "    J0 = 0\n",
        "\n",
        "    for k in range(100):\n",
        "      J0 += theta[k] * (x ** (k // 10)) * (y ** (k % 10))\n",
        "\n",
        "    sub_func = 1 / (1 + np.exp( -1 * (J0)))\n",
        "    \n",
        "\n",
        "    for p in range (len(gradient_theta)):\n",
        "      gradient_theta[p] += ( (sub_func - l) * (x ** (p//10)) * ( y ** (p%10) )) / m\n",
        "\n",
        "  for j in range(len(theta)):\n",
        "    new_theta[j] =  ( ( 1 - (learning_rate * ramda) ) * theta[j] ) - (learning_rate * gradient_theta[j])\n",
        "    gradient_theta[j] = float(0)\n",
        "    theta[j] = new_theta[j]\n",
        "\n",
        "  #for j in range(len(x_data)):\n",
        "  #  x = x_data[j]\n",
        "  #  y = y_data[j]\n",
        "  #  l = label[j]\n",
        "  #\n",
        "  #  result = 0\n",
        "  #  J0 = 0\n",
        "  #\n",
        "  #  for k in range(100):\n",
        "  #    J0 += theta[k] * (x ** (k // 10)) * (y ** (k % 10))\n",
        "  #\n",
        "  #  sub_func = 1 / (1 + np.exp( -1 * (J0)))\n",
        "  #\n",
        "  #  if 1 - sub_func == 0:\n",
        "  #    sub_func = 0.99999\n",
        "  #  \n",
        "  #  result += ( (-1 * l * np.log( sub_func )) - ( ( 1 - l ) * ( np.log( 1 - sub_func ) ) ) ) / m\n",
        "  #\n",
        "  #result += (ramda / 2) * mul_theta[i]\n",
        "  if corre_num != 0:\n",
        "    corre_space2.append(corre_num)\n",
        "\n",
        "  corre_num = 0\n",
        "\n",
        "  for j in range(len(x_data)):\n",
        "    x = x_data[j]\n",
        "    y = y_data[j]\n",
        "    l = label[j]\n",
        "    tem = 0\n",
        "\n",
        "    for k in range(100):\n",
        "      tem += theta[k] * (x ** (k // 10)) * (y ** (k % 10))\n",
        "    \n",
        "    if tem <= 0:\n",
        "      basis = 0\n",
        "      if basis == l:\n",
        "        corre_num = corre_num + 1\n",
        "    elif tem > 0:\n",
        "      basis = 1\n",
        "      if basis == l:\n",
        "        corre_num = corre_num + 1\n",
        "    \n",
        "\n"
      ],
      "execution_count": 0,
      "outputs": []
    },
    {
      "cell_type": "markdown",
      "metadata": {
        "id": "2Azoa1hb6PXj",
        "colab_type": "text"
      },
      "source": [
        "**Task 1**"
      ]
    },
    {
      "cell_type": "code",
      "metadata": {
        "id": "Nu0EyYUT6NSY",
        "colab_type": "code",
        "outputId": "a92f3171-29e4-40cc-bcf5-1eb778afc4d2",
        "colab": {
          "base_uri": "https://localhost:8080/",
          "height": 497
        }
      },
      "source": [
        "\n",
        "plt.figure(figsize=(8, 8))\n",
        "plt.xlabel('X Data')\n",
        "plt.ylabel('Y Data')\n",
        "plt.scatter(x_label0, y_label0, alpha=0.3, c='b')\n",
        "plt.scatter(x_label1, y_label1, alpha=0.3, c='r')\n",
        "plt.show()"
      ],
      "execution_count": 0,
      "outputs": [
        {
          "output_type": "display_data",
          "data": {
            "image/png": "[encoded data removed]",
            "text/plain": [
              "<Figure size 576x576 with 1 Axes>"
            ]
          },
          "metadata": {
            "tags": [],
            "needs_background": "light"
          }
        }
      ]
    },
    {
      "cell_type": "markdown",
      "metadata": {
        "id": "A5eDer7TAD5x",
        "colab_type": "text"
      },
      "source": [
        "**Task 2**"
      ]
    },
    {
      "cell_type": "code",
      "metadata": {
        "id": "Wy_B-W4DInOz",
        "colab_type": "code",
        "outputId": "8cc69e0f-4460-4833-afd9-b814239a767b",
        "colab": {
          "base_uri": "https://localhost:8080/",
          "height": 281
        }
      },
      "source": [
        "x = range(9999)\n",
        "plt.xlabel('t(iteration)')\n",
        "plt.ylabel('J(Cost function')\n",
        "plt.plot(x, result_space, 'blue', label='underfitting')\n",
        "plt.plot(x, result_space1, 'green', label='justright')\n",
        "plt.plot(x, result_space2, 'red', label='overfitting')\n",
        "plt.legend(loc = 0)\n",
        "plt.show()"
      ],
      "execution_count": 0,
      "outputs": [
        {
          "output_type": "display_data",
          "data": {
            "image/png": "[encoded data removed]",
            "text/plain": [
              "<Figure size 432x288 with 1 Axes>"
            ]
          },
          "metadata": {
            "tags": [],
            "needs_background": "light"
          }
        }
      ]
    },
    {
      "cell_type": "markdown",
      "metadata": {
        "id": "btjIRnhrB5X4",
        "colab_type": "text"
      },
      "source": [
        "**Task 3**"
      ]
    },
    {
      "cell_type": "code",
      "metadata": {
        "id": "gyZFLHEb3wA8",
        "colab_type": "code",
        "outputId": "25167f7f-c1ee-4d63-bf0e-b086a3293db9",
        "colab": {
          "base_uri": "https://localhost:8080/",
          "height": 71
        }
      },
      "source": [
        "C_END     = \"\\033[0m\"\n",
        "C_BOLD    = \"\\033[1m\"\n",
        "C_INVERSE = \"\\033[7m\"\n",
        " \n",
        "C_RED    = \"\\033[31m\"\n",
        "C_GREEN  = \"\\033[32m\"\n",
        "C_BLUE   = \"\\033[34m\"\n",
        "\n",
        "print(C_BOLD + C_RED + \"'over fitting : ramda =   1일 때 Cost function ='\" + C_END, result_space2[9998])\n",
        "print(C_BOLD + C_GREEN + \"'just   right : ramda =  10일 때 Cost function ='\" + C_END , result_space1[9998])\n",
        "print(C_BOLD + C_BLUE + \"'underfitting : ramda = 100일 때 Cost function ='\" + C_END, result_space[9998])"
      ],
      "execution_count": 0,
      "outputs": [
        {
          "output_type": "stream",
          "text": [
            "\u001b[1m\u001b[31m'over fitting : ramda =   1일 때 Cost function ='\u001b[0m 0.005716342871883173\n",
            "\u001b[1m\u001b[32m'just   right : ramda =  10일 때 Cost function ='\u001b[0m 0.005851132888843574\n",
            "\u001b[1m\u001b[34m'underfitting : ramda = 100일 때 Cost function ='\u001b[0m 0.005871727462704028\n"
          ],
          "name": "stdout"
        }
      ]
    },
    {
      "cell_type": "markdown",
      "metadata": {
        "id": "m-dlBHAtFjCt",
        "colab_type": "text"
      },
      "source": [
        "**Task 4**"
      ]
    },
    {
      "cell_type": "code",
      "metadata": {
        "id": "kxMukZYfEwlH",
        "colab_type": "code",
        "outputId": "54530f35-1ebd-4057-ae43-80511baef8f5",
        "colab": {
          "base_uri": "https://localhost:8080/",
          "height": 279
        }
      },
      "source": [
        "#for i in range (len(corre_space)):\n",
        "  #real_corre_space[i] = (corre_space[i] / m) * 100\n",
        "  #real_corre_space1[i] = (corre_space1[i] / m) * 100\n",
        "  #real_corre_space2[i] = (corre_space2[i] / m) * 100\n",
        "\n",
        "x = range(9999)\n",
        "plt.xlabel('t(iteration)')\n",
        "plt.ylabel('Accuracy')\n",
        "plt.plot(x, real_corre_space2, 'blue', label='underfitting')\n",
        "plt.plot(x, real_corre_space1, 'green', label='justright')\n",
        "plt.plot(x, real_corre_space, 'red', label='overfitting')\n",
        "plt.legend(loc = 0)\n",
        "plt.show()"
      ],
      "execution_count": 0,
      "outputs": [
        {
          "output_type": "display_data",
          "data": {
            "image/png": "[encoded data removed]",
            "text/plain": [
              "<Figure size 432x288 with 1 Axes>"
            ]
          },
          "metadata": {
            "tags": [],
            "needs_background": "light"
          }
        }
      ]
    },
    {
      "cell_type": "markdown",
      "metadata": {
        "id": "e21R0vZmFkzF",
        "colab_type": "text"
      },
      "source": [
        "**Task 5**"
      ]
    },
    {
      "cell_type": "code",
      "metadata": {
        "id": "EzsWTlYuFfVO",
        "colab_type": "code",
        "outputId": "e9da3e34-47f3-4028-9ef4-c3d1a22c3e00",
        "colab": {
          "base_uri": "https://localhost:8080/",
          "height": 71
        }
      },
      "source": [
        "C_END     = \"\\033[0m\"\n",
        "C_BOLD    = \"\\033[1m\"\n",
        "C_INVERSE = \"\\033[7m\"\n",
        " \n",
        "C_RED    = \"\\033[31m\"\n",
        "C_GREEN  = \"\\033[32m\"\n",
        "C_BLUE   = \"\\033[34m\"\n",
        "\n",
        "print(C_BOLD + C_RED + \"'over fitting : ramda =   1일 때 Accuracy ='\" + C_END, real_corre_space[9998])\n",
        "print(C_BOLD + C_GREEN + \"'just   right : ramda =  10일 때 Accuracy ='\" + C_END , real_corre_space1[9998])\n",
        "print(C_BOLD + C_BLUE + \"'underfitting : ramda = 100일 때 Accuracy ='\" + C_END, real_corre_space2[9998])"
      ],
      "execution_count": 0,
      "outputs": [
        {
          "output_type": "stream",
          "text": [
            "\u001b[1m\u001b[31m'over fitting : ramda =   1일 때 Accuracy ='\u001b[0m 81.86440677966101\n",
            "\u001b[1m\u001b[32m'just   right : ramda =  10일 때 Accuracy ='\u001b[0m 61.047457627118646\n",
            "\u001b[1m\u001b[34m'underfitting : ramda = 100일 때 Accuracy ='\u001b[0m 52.347457627118644\n"
          ],
          "name": "stdout"
        }
      ]
    },
    {
      "cell_type": "markdown",
      "metadata": {
        "id": "k4LuaQ1qITN7",
        "colab_type": "text"
      },
      "source": [
        "**Task6**"
      ]
    },
    {
      "cell_type": "code",
      "metadata": {
        "id": "yId6Gdw0Ug2E",
        "colab_type": "code",
        "colab": {}
      },
      "source": [
        ""
      ],
      "execution_count": 0,
      "outputs": []
    }
  ]
}