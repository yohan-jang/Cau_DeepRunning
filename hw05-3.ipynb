{
  "nbformat": 4,
  "nbformat_minor": 0,
  "metadata": {
    "colab": {
      "name": "Untitled4.ipynb",
      "provenance": [],
      "collapsed_sections": []
    },
    "kernelspec": {
      "name": "python3",
      "display_name": "Python 3"
    }
  },
  "cells": [
    {
      "cell_type": "code",
      "metadata": {
        "id": "FDMjuF4-R-Ku",
        "colab_type": "code",
        "outputId": "a14f9b57-6082-462d-b32a-e7f7a9064037",
        "colab": {
          "base_uri": "https://localhost:8080/",
          "height": 127
        }
      },
      "source": [
        "from google.colab import drive\n",
        "drive.mount('/content/drive')"
      ],
      "execution_count": 0,
      "outputs": [
        {
          "output_type": "stream",
          "text": [
            "Go to this URL in a browser: https://accounts.google.com/o/oauth2/auth?client_id=947318989803-6bn6qk8qdgf4n4g3pfee6491hc0brc4i.apps.googleusercontent.com&redirect_uri=urn%3aietf%3awg%3aoauth%3a2.0%3aoob&response_type=code&scope=email%20https%3a%2f%2fwww.googleapis.com%2fauth%2fdocs.test%20https%3a%2f%2fwww.googleapis.com%2fauth%2fdrive%20https%3a%2f%2fwww.googleapis.com%2fauth%2fdrive.photos.readonly%20https%3a%2f%2fwww.googleapis.com%2fauth%2fpeopleapi.readonly\n",
            "\n",
            "Enter your authorization code:\n",
            "··········\n",
            "Mounted at /content/drive\n"
          ],
          "name": "stdout"
        }
      ]
    },
    {
      "cell_type": "code",
      "metadata": {
        "id": "SHup8smHTqt5",
        "colab_type": "code",
        "outputId": "8caa4cfd-f978-4345-daef-67daa36551e6",
        "colab": {
          "base_uri": "https://localhost:8080/",
          "height": 497
        }
      },
      "source": [
        "import numpy as np\n",
        "from mpl_toolkits.mplot3d import Axes3D\n",
        "import matplotlib.pyplot as plt\n",
        "from matplotlib import style\n",
        "import csv\n",
        "\n",
        "data    = np.genfromtxt(\"/content/drive/My Drive/data.txt\", delimiter=',')\n",
        "\n",
        "x_data       = data[:, 0]\n",
        "y_data       = data[:, 1]\n",
        "label        = data[:, 2]\n",
        "\n",
        "x_label0    = x_data[label == 0]\n",
        "x_label1    = x_data[label == 1]\n",
        "\n",
        "y_label0    = y_data[label == 0]\n",
        "y_label1    = y_data[label == 1]\n",
        "\n",
        "plt.figure(figsize=(8, 8))\n",
        "plt.xlabel('X Data')\n",
        "plt.ylabel('Y Data')\n",
        "plt.scatter(x_label0, y_label0, alpha=0.3, c='b')\n",
        "plt.scatter(x_label1, y_label1, alpha=0.3, c='r')\n",
        "plt.show()\n"
      ],
      "execution_count": 0,
      "outputs": [
        {
          "output_type": "display_data",
          "data": {
            "image/png": "[encoded data removed]",
            "text/plain": [
              "<Figure size 576x576 with 1 Axes>"
            ]
          },
          "metadata": {
            "tags": [],
            "needs_background": "light"
          }
        }
      ]
    },
    {
      "cell_type": "code",
      "metadata": {
        "id": "PNuuaqfbUgwu",
        "colab_type": "code",
        "outputId": "0d7681a4-eb3b-4d68-a6ef-1678ce70f586",
        "colab": {
          "base_uri": "https://localhost:8080/",
          "height": 71
        }
      },
      "source": [
        "import math\n",
        "\n",
        "theta0 = float(-60)\n",
        "theta1 = float(-5)\n",
        "theta2 = float(5)\n",
        "\n",
        "new_theta0 = float(0)\n",
        "new_theta1 = float(0)\n",
        "new_theta2 = float(0)\n",
        "\n",
        "m = float(len(x_data))\n",
        "learning_rate = float(0.001)\n",
        "\n",
        "gradient_theta0 = float(0)\n",
        "gradient_theta1 = float(0)\n",
        "gradient_theta2 = float(0)\n",
        "\n",
        "space_theta0 = []\n",
        "space_theta1 = []\n",
        "space_theta2 = []\n",
        "\n",
        "for i in range(100000):\n",
        "  for j in range(len(x_data)):\n",
        "    x = x_data[j]\n",
        "    y = y_data[j]\n",
        "    l = label[j]\n",
        "    \n",
        "    sub_func = 1 / (1 + math.exp( -1 * ( theta0 + (theta1 * x) + (theta2 * y) ) ))\n",
        "\n",
        "    gradient_theta0 += (sub_func - l) / m\n",
        "    gradient_theta1 += ( (sub_func - l) * x ) / m\n",
        "    gradient_theta2 += ( (sub_func - l) * y ) / m\n",
        "\n",
        "  new_theta0 = theta0 - (learning_rate * gradient_theta0)\n",
        "  new_theta1 = theta1 - (learning_rate * gradient_theta1)\n",
        "  new_theta2 = theta2 - (learning_rate * gradient_theta2) \n",
        "  \n",
        "  gradient_theta0 = float(0)\n",
        "  gradient_theta1 = float(0)\n",
        "  gradient_theta2 = float(0)  #초기화\n",
        "\n",
        "  theta0 = new_theta0\n",
        "  theta1 = new_theta1\n",
        "  theta2 = new_theta2\n",
        "\n",
        "  space_theta0.append(theta0)\n",
        "  space_theta1.append(theta1)\n",
        "  space_theta2.append(theta2)\n",
        "\n",
        "print('theta0 =', theta0)\n",
        "print('theta1 =', theta1)\n",
        "print('theta2 =', theta2)\n"
      ],
      "execution_count": 0,
      "outputs": [
        {
          "output_type": "stream",
          "text": [
            "theta0 = -59.716225680383516\n",
            "theta1 = 0.4848235671856703\n",
            "theta2 = 0.47884867321606045\n"
          ],
          "name": "stdout"
        }
      ]
    },
    {
      "cell_type": "code",
      "metadata": {
        "id": "VqLjQ_iNatiQ",
        "colab_type": "code",
        "outputId": "9e5719e3-aae0-4eaf-9d6c-0505a76ade5f",
        "colab": {
          "base_uri": "https://localhost:8080/",
          "height": 279
        }
      },
      "source": [
        "x = range(100000)\n",
        "y1 = space_theta0[:100000]\n",
        "y2 = space_theta1[:100000]\n",
        "y3 = space_theta2[:100000]\n",
        "\n",
        "plt.xlabel('t(iteration)')\n",
        "plt.ylabel('Theta')\n",
        "plt.plot(x, y1, 'red', x, y2, 'green', x, y3, 'blue')\n",
        "plt.show()"
      ],
      "execution_count": 0,
      "outputs": [
        {
          "output_type": "display_data",
          "data": {
            "image/png": "[encoded data removed]",
            "text/plain": [
              "<Figure size 432x288 with 1 Axes>"
            ]
          },
          "metadata": {
            "tags": [],
            "needs_background": "light"
          }
        }
      ]
    },
    {
      "cell_type": "code",
      "metadata": {
        "id": "GqYtt_Ae498z",
        "colab_type": "code",
        "outputId": "072d0981-e155-47de-c691-9e4371b28397",
        "colab": {
          "base_uri": "https://localhost:8080/",
          "height": 279
        }
      },
      "source": [
        "import math\n",
        "\n",
        "result = float(0)\n",
        "sub_func = float(0)\n",
        "J = []\n",
        "\n",
        "\n",
        "for i in range(len(space_theta0)):\n",
        "  theta0 = space_theta0[i]\n",
        "  theta1 = space_theta1[i]\n",
        "  theta2 = space_theta2[i]\n",
        "  for j in range(len(x_data)):\n",
        "    x = x_data[j]\n",
        "    y = y_data[j]\n",
        "    l = label[j]\n",
        "    sub_func = 1 / (1 + math.exp( -1 * ( theta0 + (theta1 * x) + (theta2 * y) ) ))\n",
        "\n",
        "    if (sub_func >= 1):\n",
        "      sub_func = 0.99999\n",
        "\n",
        "    left = float(math.log(sub_func))\n",
        "    right = float(math.log(1 - sub_func))             # 바로 result에 삽입했더니 문제가 생겨서 left와 right로 쪼개서 식에 대입함.\n",
        "                                                      # 세세히 확인해보니 right파트에서 sub_func이 반올림 되서 1의 값을 가지는 경우가 생기는데\n",
        "                                                      # 이 값이 log (1 - right) 가 되면서 마이너스 무한대의 값을 가져서 에러가 남\n",
        "                                                      # 따라서 if문을 통해서 1이 아닌 0.99999로 값을 바꿔주었음.\n",
        "\n",
        "    result += ( (-1 * l * left) + ((l - 1) * right) ) / m\n",
        "  J.append(result)\n",
        "  result = float(0)\n",
        "\n",
        "\n",
        "x = range(100000)\n",
        "plt.xlabel('t(iteration)')\n",
        "plt.ylabel('J(Cost function)')\n",
        "plt.plot(x, J, 'blue')\n",
        "plt.show()\n",
        "\n"
      ],
      "execution_count": 0,
      "outputs": [
        {
          "output_type": "display_data",
          "data": {
            "image/png": "[encoded data removed]",
            "text/plain": [
              "<Figure size 432x288 with 1 Axes>"
            ]
          },
          "metadata": {
            "tags": [],
            "needs_background": "light"
          }
        }
      ]
    },
    {
      "cell_type": "code",
      "metadata": {
        "id": "CbYVyUm_66ha",
        "colab_type": "code",
        "colab": {}
      },
      "source": [
        ""
      ],
      "execution_count": 0,
      "outputs": []
    }
  ]
}