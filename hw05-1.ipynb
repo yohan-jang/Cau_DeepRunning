{
  "nbformat": 4,
  "nbformat_minor": 0,
  "metadata": {
    "colab": {
      "name": "Untitled4.ipynb",
      "provenance": []
    },
    "kernelspec": {
      "name": "python3",
      "display_name": "Python 3"
    }
  },
  "cells": [
    {
      "cell_type": "code",
      "metadata": {
        "id": "FDMjuF4-R-Ku",
        "colab_type": "code",
        "outputId": "a14f9b57-6082-462d-b32a-e7f7a9064037",
        "colab": {
          "base_uri": "https://localhost:8080/",
          "height": 127
        }
      },
      "source": [
        "from google.colab import drive\n",
        "drive.mount('/content/drive')"
      ],
      "execution_count": 0,
      "outputs": [
        {
          "output_type": "stream",
          "text": [
            "Go to this URL in a browser: https://accounts.google.com/o/oauth2/auth?client_id=947318989803-6bn6qk8qdgf4n4g3pfee6491hc0brc4i.apps.googleusercontent.com&redirect_uri=urn%3aietf%3awg%3aoauth%3a2.0%3aoob&response_type=code&scope=email%20https%3a%2f%2fwww.googleapis.com%2fauth%2fdocs.test%20https%3a%2f%2fwww.googleapis.com%2fauth%2fdrive%20https%3a%2f%2fwww.googleapis.com%2fauth%2fdrive.photos.readonly%20https%3a%2f%2fwww.googleapis.com%2fauth%2fpeopleapi.readonly\n",
            "\n",
            "Enter your authorization code:\n",
            "··········\n",
            "Mounted at /content/drive\n"
          ],
          "name": "stdout"
        }
      ]
    },
    {
      "cell_type": "code",
      "metadata": {
        "id": "SHup8smHTqt5",
        "colab_type": "code",
        "outputId": "b06c26b2-17fd-4df8-d805-401183fe225a",
        "colab": {
          "base_uri": "https://localhost:8080/",
          "height": 497
        }
      },
      "source": [
        "import numpy as np\n",
        "from mpl_toolkits.mplot3d import Axes3D\n",
        "import matplotlib.pyplot as plt\n",
        "from matplotlib import style\n",
        "import csv\n",
        "\n",
        "data    = np.genfromtxt(\"/content/drive/My Drive/data.txt\", delimiter=',')\n",
        "\n",
        "x_data       = data[:, 0]\n",
        "y_data       = data[:, 1]\n",
        "label        = data[:, 2]\n",
        "\n",
        "x_label0    = x_data[label == 0]\n",
        "x_label1    = x_data[label == 1]\n",
        "\n",
        "y_label0    = y_data[label == 0]\n",
        "y_label1    = y_data[label == 1]\n",
        "\n",
        "plt.figure(figsize=(8, 8))\n",
        "plt.xlabel('X Data')\n",
        "plt.ylabel('Y Data')\n",
        "plt.scatter(x_label0, y_label0, alpha=0.3, c='b')\n",
        "plt.scatter(x_label1, y_label1, alpha=0.3, c='r')\n",
        "plt.show()\n"
      ],
      "execution_count": 0,
      "outputs": [
        {
          "output_type": "display_data",
          "data": {
            "image/png": "[encoded data removed]",
            "text/plain": [
              "<Figure size 576x576 with 1 Axes>"
            ]
          },
          "metadata": {
            "tags": [],
            "needs_background": "light"
          }
        }
      ]
    },
    {
      "cell_type": "code",
      "metadata": {
        "id": "PNuuaqfbUgwu",
        "colab_type": "code",
        "outputId": "bf22d374-a8f9-444e-e190-26037451af0a",
        "colab": {
          "base_uri": "https://localhost:8080/",
          "height": 71
        }
      },
      "source": [
        "import math\n",
        "\n",
        "theta0 = float(0)\n",
        "theta1 = float(5)\n",
        "theta2 = float(10)\n",
        "\n",
        "new_theta0 = float(0)\n",
        "new_theta1 = float(0)\n",
        "new_theta2 = float(0)\n",
        "\n",
        "m = float(len(x_data))\n",
        "learning_rate = float(0.001)\n",
        "\n",
        "gradient_theta0 = float(0)\n",
        "gradient_theta1 = float(0)\n",
        "gradient_theta2 = float(0)\n",
        "\n",
        "space_theta0 = []\n",
        "space_theta1 = []\n",
        "space_theta2 = []\n",
        "\n",
        "for i in range(100000):\n",
        "  for j in range(len(x_data)):\n",
        "    x = x_data[j]\n",
        "    y = y_data[j]\n",
        "    l = label[j]\n",
        "    \n",
        "    sub = 1 / (1 + math.exp( -1 * ( theta0 + (theta1 * x) + (theta2 * y) ) ))\n",
        "\n",
        "    gradient_theta0 += (sub - l)\n",
        "    gradient_theta1 += (sub - l) * x\n",
        "    gradient_theta2 += (sub - l) * y\n",
        "\n",
        "  new_theta0 = theta0 - (learning_rate * gradient_theta0)\n",
        "  new_theta1 = theta1 - (learning_rate * gradient_theta1)\n",
        "  new_theta2 = theta2 - (learning_rate * gradient_theta2) \n",
        "  \n",
        "  gradient_theta0 = float(0)\n",
        "  gradient_theta1 = float(0)\n",
        "  gradient_theta2 = float(0)  #초기화\n",
        "\n",
        "  theta0 = new_theta0\n",
        "  theta1 = new_theta1\n",
        "  theta2 = new_theta2\n",
        "\n",
        "  space_theta0.append(theta0)\n",
        "  space_theta1.append(theta1)\n",
        "  space_theta2.append(theta2)\n",
        "\n",
        "print('theta0 =', theta0)\n",
        "print('theta1 =', theta1)\n",
        "print('theta2 =', theta2)\n"
      ],
      "execution_count": 0,
      "outputs": [
        {
          "output_type": "stream",
          "text": [
            "theta0 = -483.5724560189981\n",
            "theta1 = 5.161785525216992\n",
            "theta2 = 4.127860302299149\n"
          ],
          "name": "stdout"
        }
      ]
    }
  ]
}