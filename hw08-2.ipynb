{
  "nbformat": 4,
  "nbformat_minor": 0,
  "metadata": {
    "colab": {
      "name": "Untitled10.ipynb",
      "provenance": [],
      "collapsed_sections": []
    },
    "kernelspec": {
      "name": "python3",
      "display_name": "Python 3"
    }
  },
  "cells": [
    {
      "cell_type": "code",
      "metadata": {
        "id": "WRUjFj3CU8LG",
        "colab_type": "code",
        "outputId": "28c9a27b-5285-4b18-b8b6-a5cfa317f517",
        "colab": {
          "base_uri": "https://localhost:8080/",
          "height": 127
        }
      },
      "source": [
        "from google.colab import drive\n",
        "drive.mount('/content/drive')"
      ],
      "execution_count": 0,
      "outputs": [
        {
          "output_type": "stream",
          "text": [
            "Go to this URL in a browser: https://accounts.google.com/o/oauth2/auth?client_id=947318989803-6bn6qk8qdgf4n4g3pfee6491hc0brc4i.apps.googleusercontent.com&redirect_uri=urn%3aietf%3awg%3aoauth%3a2.0%3aoob&response_type=code&scope=email%20https%3a%2f%2fwww.googleapis.com%2fauth%2fdocs.test%20https%3a%2f%2fwww.googleapis.com%2fauth%2fdrive%20https%3a%2f%2fwww.googleapis.com%2fauth%2fdrive.photos.readonly%20https%3a%2f%2fwww.googleapis.com%2fauth%2fpeopleapi.readonly\n",
            "\n",
            "Enter your authorization code:\n",
            "··········\n",
            "Mounted at /content/drive\n"
          ],
          "name": "stdout"
        }
      ]
    },
    {
      "cell_type": "markdown",
      "metadata": {
        "id": "2KQD90_dXMkW",
        "colab_type": "text"
      },
      "source": [
        "**Data part**"
      ]
    },
    {
      "cell_type": "code",
      "metadata": {
        "id": "GeIVhcOpU88d",
        "colab_type": "code",
        "colab": {}
      },
      "source": [
        "import matplotlib.pyplot as plt\n",
        "import numpy as np\n",
        "\n",
        "file_data   = \"/content/drive/My Drive/mnist_test.csv\"\n",
        "handle_file = open(file_data, \"r\")\n",
        "data        = handle_file.readlines()\n",
        "handle_file.close()\n",
        "\n",
        "size_row    = 28    # height of the image\n",
        "size_col    = 28    # width of the image\n",
        "\n",
        "num_image   = len(data)\n",
        "count       = 0     # count for the number of images\n",
        "\n",
        "#\n",
        "# make a matrix each column of which represents an images in a vector form \n",
        "#\n",
        "\n",
        "list_image  = np.empty((size_row * size_col, num_image), dtype=float)\n",
        "list_label  = np.empty(num_image, dtype=int)\n",
        "\n",
        "for line in data:\n",
        "\n",
        "    line_data   = line.split(',')\n",
        "    label       = line_data[0]\n",
        "    im_vector   = np.asfarray(line_data[1:])\n",
        "\n",
        "    list_label[count]       = label\n",
        "    list_image[:, count]    = im_vector    \n",
        "\n",
        "    count += 1\n",
        "\n",
        "# \n",
        "# plot first 100 images out of 10,000 with their labels\n",
        "# \n",
        "\n",
        "#print(len(list_label)) # 라벨 표기 인덱스 배열\n",
        "#print(len(im_matrix)) # 1열에 모든 벡터의 원소가 들어있음\n",
        "\n",
        "cnt0 = 0\n",
        "cnt1 = 0\n",
        "cnt2 = 0\n",
        "cnt3 = 0\n",
        "cnt4 = 0\n",
        "cnt5 = 0\n",
        "cnt6 = 0\n",
        "cnt7 = 0\n",
        "cnt8 = 0\n",
        "cnt9 = 0\n",
        "\n",
        "\n",
        "vector_space = np.arange(7840).reshape(784,10)\n",
        "\n",
        "for i in range(784):\n",
        "  for j in range(10):\n",
        "    vector_space[i,j] = float(0)\n",
        "\n",
        "for i in range(10000):\n",
        "  label = list_label[i]\n",
        "\n",
        "  if label == 0:\n",
        "    for p in range(784):\n",
        "      vector_space[p, label] += list_image[p, i]\n",
        "    cnt0 += 1\n",
        "\n",
        "  elif label == 1:\n",
        "    for p in range(784):\n",
        "      vector_space[p, label] += list_image[p,i]\n",
        "    cnt1 += 1\n",
        "\n",
        "  elif label == 2:\n",
        "    for p in range(784):\n",
        "      vector_space[p, label] += list_image[p,i]\n",
        "    cnt2 += 1\n",
        "\n",
        "  elif label == 3:\n",
        "    for p in range(784):\n",
        "      vector_space[p, label] += list_image[p,i]\n",
        "    cnt3 += 1\n",
        "\n",
        "  elif label == 4:\n",
        "    for p in range(784):\n",
        "      vector_space[p, label] += list_image[p,i]\n",
        "    cnt4 += 1\n",
        "\n",
        "  elif label == 5:\n",
        "    for p in range(784):\n",
        "      vector_space[p, label] += list_image[p,i]\n",
        "    cnt5 += 1\n",
        "\n",
        "  elif label == 6:\n",
        "    for p in range(784):\n",
        "      vector_space[p, label] += list_image[p,i]\n",
        "    cnt6 += 1\n",
        "\n",
        "  elif label == 7:\n",
        "    for p in range(784):\n",
        "      vector_space[p, label] += list_image[p,i]\n",
        "    cnt7 += 1\n",
        "\n",
        "  elif label == 8:\n",
        "    for p in range(784):\n",
        "      vector_space[p, label] += list_image[p,i]\n",
        "    cnt8 += 1\n",
        "\n",
        "  elif label == 9:\n",
        "    for p in range(784):\n",
        "      vector_space[p, label] += list_image[p,i]\n",
        "    cnt9 += 1\n",
        "\n",
        "for i in range(784):\n",
        "  for j in range(10):\n",
        "    if j == 0:\n",
        "      vector_space[i,j] /= cnt0\n",
        "    elif j == 1:\n",
        "      vector_space[i,j] /= cnt1\n",
        "    elif j == 2:\n",
        "      vector_space[i,j] /= cnt2\n",
        "    elif j == 3:\n",
        "      vector_space[i,j] /= cnt3\n",
        "    elif j == 4:\n",
        "      vector_space[i,j] /= cnt4\n",
        "    elif j == 5:\n",
        "      vector_space[i,j] /= cnt5\n",
        "    elif j == 6:\n",
        "      vector_space[i,j] /= cnt6\n",
        "    elif j == 7:\n",
        "      vector_space[i,j] /= cnt7\n",
        "    elif j == 8:\n",
        "      vector_space[i,j] /= cnt8\n",
        "    elif j == 9:\n",
        "      vector_space[i,j] /= cnt9\n"
      ],
      "execution_count": 0,
      "outputs": []
    },
    {
      "cell_type": "markdown",
      "metadata": {
        "id": "GcI_SJUOXQha",
        "colab_type": "text"
      },
      "source": [
        "**Task 1**"
      ]
    },
    {
      "cell_type": "code",
      "metadata": {
        "id": "9Swgz96JZlfD",
        "colab_type": "code",
        "outputId": "6cfe17fb-4a5a-4573-f5df-e079d200761d",
        "colab": {
          "base_uri": "https://localhost:8080/",
          "height": 227
        }
      },
      "source": [
        "f1 = plt.figure(1)\n",
        "\n",
        "for i in range(10):\n",
        "\n",
        "    label       = i\n",
        "    im_vector   = vector_space[:, i]\n",
        "    im_matrix   = im_vector.reshape((size_row, size_col))\n",
        "\n",
        "    plt.subplot(2, 5, i+1)\n",
        "    plt.title(label)\n",
        "    plt.imshow(im_matrix, cmap='Greys', interpolation='None')\n",
        "\n",
        "    frame   = plt.gca()\n",
        "    frame.axes.get_xaxis().set_visible(False)\n",
        "    frame.axes.get_yaxis().set_visible(False)\n",
        "\n",
        "plt.show()\n",
        "\n"
      ],
      "execution_count": 0,
      "outputs": [
        {
          "output_type": "display_data",
          "data": {
            "image/png": "[encoded data removed]",
            "text/plain": [
              "<Figure size 432x288 with 10 Axes>"
            ]
          },
          "metadata": {
            "tags": [],
            "needs_background": "light"
          }
        }
      ]
    },
    {
      "cell_type": "markdown",
      "metadata": {
        "id": "OLCEJphoZmAg",
        "colab_type": "text"
      },
      "source": [
        "**Task 2**"
      ]
    },
    {
      "cell_type": "code",
      "metadata": {
        "id": "0l7Gr623Z8iH",
        "colab_type": "code",
        "colab": {}
      },
      "source": [
        ""
      ],
      "execution_count": 0,
      "outputs": []
    }
  ]
}