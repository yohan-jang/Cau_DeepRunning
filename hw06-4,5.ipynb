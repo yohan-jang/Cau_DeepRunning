{
  "nbformat": 4,
  "nbformat_minor": 0,
  "metadata": {
    "colab": {
      "name": "Untitled5.ipynb",
      "provenance": [],
      "collapsed_sections": []
    },
    "kernelspec": {
      "name": "python3",
      "display_name": "Python 3"
    }
  },
  "cells": [
    {
      "cell_type": "code",
      "metadata": {
        "id": "ogCFVdxQ0YFp",
        "colab_type": "code",
        "outputId": "b219d910-dd3e-4873-b655-9e52770c2c2a",
        "colab": {
          "base_uri": "https://localhost:8080/",
          "height": 127
        }
      },
      "source": [
        "from google.colab import drive\n",
        "drive.mount('/content/drive')"
      ],
      "execution_count": 0,
      "outputs": [
        {
          "output_type": "stream",
          "text": [
            "Go to this URL in a browser: https://accounts.google.com/o/oauth2/auth?client_id=947318989803-6bn6qk8qdgf4n4g3pfee6491hc0brc4i.apps.googleusercontent.com&redirect_uri=urn%3aietf%3awg%3aoauth%3a2.0%3aoob&response_type=code&scope=email%20https%3a%2f%2fwww.googleapis.com%2fauth%2fdocs.test%20https%3a%2f%2fwww.googleapis.com%2fauth%2fdrive%20https%3a%2f%2fwww.googleapis.com%2fauth%2fdrive.photos.readonly%20https%3a%2f%2fwww.googleapis.com%2fauth%2fpeopleapi.readonly\n",
            "\n",
            "Enter your authorization code:\n",
            "··········\n",
            "Mounted at /content/drive\n"
          ],
          "name": "stdout"
        }
      ]
    },
    {
      "cell_type": "code",
      "metadata": {
        "id": "fX0J8xaa05pV",
        "colab_type": "code",
        "outputId": "c7a845cc-1675-4a0a-93ca-7fdf78aca57d",
        "colab": {
          "base_uri": "https://localhost:8080/",
          "height": 497
        }
      },
      "source": [
        "import numpy as np\n",
        "from mpl_toolkits.mplot3d import Axes3D\n",
        "import matplotlib.pyplot as plt\n",
        "from matplotlib import style\n",
        "import csv\n",
        "import math\n",
        "\n",
        "data    = np.genfromtxt(\"/content/drive/My Drive/data-nonlinear.txt\", delimiter=',')\n",
        "\n",
        "x_data       = data[:, 0]\n",
        "y_data       = data[:, 1]\n",
        "label        = data[:, 2]\n",
        "\n",
        "x_label0    = x_data[label == 0]\n",
        "x_label1    = x_data[label == 1]\n",
        "\n",
        "y_label0    = y_data[label == 0]\n",
        "y_label1    = y_data[label == 1]\n",
        "\n",
        "plt.figure(figsize=(8, 8))\n",
        "plt.xlabel('X Data')\n",
        "plt.ylabel('Y Data')\n",
        "plt.scatter(x_label0, y_label0, alpha=0.3, c='b')\n",
        "plt.scatter(x_label1, y_label1, alpha=0.3, c='r')\n",
        "plt.show()\n"
      ],
      "execution_count": 0,
      "outputs": [
        {
          "output_type": "display_data",
          "data": {
            "image/png": "[encoded data removed]",
            "text/plain": [
              "<Figure size 576x576 with 1 Axes>"
            ]
          },
          "metadata": {
            "tags": [],
            "needs_background": "light"
          }
        }
      ]
    },
    {
      "cell_type": "code",
      "metadata": {
        "id": "NZRq7PZR3SI4",
        "colab_type": "code",
        "outputId": "52061ccf-d82d-4acd-f671-e06b5e6be645",
        "colab": {
          "base_uri": "https://localhost:8080/",
          "height": 143
        }
      },
      "source": [
        "theta0 = float( 3.095752713319107 )\n",
        "theta1 = float( 1.6332390219201367 )\n",
        "theta2 = float( 2.240121596331915 )\n",
        "theta3 = float( -3.5704660837272413 )\n",
        "theta4 = float( -7.187835763674985 )\n",
        "theta5 = float( -6.72191403471677 )\n",
        "#theta6 = float( -0.45769414867730346 )\n",
        "#theta7 = float( 0.050922137621902626 )\n",
        "#theta8 = float( 0.4566275780316808 )\n",
        "#theta9 = float( -0.8683156421391853 )\n",
        "\n",
        "new_theta0 = float(0)\n",
        "new_theta1 = float(0)\n",
        "new_theta2 = float(0)\n",
        "new_theta3 = float(0)\n",
        "new_theta4 = float(0)\n",
        "new_theta5 = float(0)\n",
        "#new_theta6 = float(0)\n",
        "#new_theta7 = float(0)\n",
        "#new_theta8 = float(0)\n",
        "#new_theta9 = float(0)\n",
        "\n",
        "\n",
        "m = float(len(x_data))\n",
        "\n",
        "learning_rate = float(0.5)\n",
        "\n",
        "gradient_theta0 = float(0)\n",
        "gradient_theta1 = float(0)\n",
        "gradient_theta2 = float(0)\n",
        "gradient_theta3 = float(0)\n",
        "gradient_theta4 = float(0)\n",
        "gradient_theta5 = float(0)\n",
        "#gradient_theta6 = float(0)\n",
        "#gradient_theta7 = float(0)\n",
        "#gradient_theta8 = float(0)\n",
        "#gradient_theta9 = float(0)\n",
        "\n",
        "\n",
        "space_theta0 = []\n",
        "space_theta1 = []\n",
        "space_theta2 = []\n",
        "space_theta3 = []\n",
        "space_theta4 = []\n",
        "space_theta5 = []\n",
        "#space_theta6 = []\n",
        "#space_theta7 = []\n",
        "#space_theta8 = []\n",
        "#space_theta9 = []\n",
        "\n",
        "for i in range(10000):\n",
        "  for j in range(len(x_data)):\n",
        "    x = x_data[j]\n",
        "    y = y_data[j]\n",
        "    l = label[j]\n",
        "    \n",
        "    sub_func = 1 / (1 + math.exp( -1 * ( theta0 + (theta1 * x) + (theta2 * y) + (theta3 * x * y) + (theta4 * (x**2) ) + (theta5 * (y**2)) )))\n",
        "    #+ (theta6 * (x**3)) + (theta7 * (x**2) * y) + (theta8 * x * (y**2)) + (theta9 * (y**3)) )))\n",
        "\n",
        "    gradient_theta0 += (sub_func - l) / m\n",
        "    gradient_theta1 += ( (sub_func - l) * x ) / m\n",
        "    gradient_theta2 += ( (sub_func - l) * y ) / m\n",
        "    gradient_theta3 += ( (sub_func - l) * x * y ) / m\n",
        "    gradient_theta4 += ( (sub_func - l) * (x**2) ) / m\n",
        "    gradient_theta5 += ( (sub_func - l) * (y**2) ) / m\n",
        "    #gradient_theta6 += ( (sub_func - l) * (x**3) ) / m\n",
        "    #gradient_theta7 += ( (sub_func - l) * ( (x**2) * y ) ) / m\n",
        "    #gradient_theta8 += ( (sub_func - l) * ( (y**2) * x ) ) / m\n",
        "    #gradient_theta9 += ( (sub_func - l) * (y**3) ) / m\n",
        "\n",
        "  new_theta0 = theta0 - (learning_rate * gradient_theta0)\n",
        "  new_theta1 = theta1 - (learning_rate * gradient_theta1)\n",
        "  new_theta2 = theta2 - (learning_rate * gradient_theta2)\n",
        "  new_theta3 = theta3 - (learning_rate * gradient_theta3)\n",
        "  new_theta4 = theta4 - (learning_rate * gradient_theta4)\n",
        "  new_theta5 = theta5 - (learning_rate * gradient_theta5)\n",
        "  #new_theta6 = theta6 - (learning_rate * gradient_theta6)\n",
        "  #new_theta7 = theta7 - (learning_rate * gradient_theta7)\n",
        "  #new_theta8 = theta8 - (learning_rate * gradient_theta8)\n",
        "  #new_theta9 = theta9 - (learning_rate * gradient_theta9) \n",
        "  \n",
        "  gradient_theta0 = float(0)\n",
        "  gradient_theta1 = float(0)\n",
        "  gradient_theta2 = float(0)  \n",
        "  gradient_theta3 = float(0)\n",
        "  gradient_theta4 = float(0)\n",
        "  gradient_theta5 = float(0)\n",
        "  #gradient_theta6 = float(0)  \n",
        "  #gradient_theta7 = float(0)\n",
        "  #gradient_theta8 = float(0)\n",
        "  #gradient_theta9 = float(0)\n",
        "\n",
        "  theta0 = new_theta0\n",
        "  theta1 = new_theta1\n",
        "  theta2 = new_theta2\n",
        "  theta3 = new_theta3\n",
        "  theta4 = new_theta4\n",
        "  theta5 = new_theta5\n",
        "  #theta6 = new_theta6\n",
        "  #theta7 = new_theta7\n",
        "  #theta8 = new_theta8\n",
        "  #theta9 = new_theta9\n",
        "\n",
        "  space_theta0.append(theta0)\n",
        "  space_theta1.append(theta1)\n",
        "  space_theta2.append(theta2)\n",
        "  space_theta3.append(theta3)\n",
        "  space_theta4.append(theta4)\n",
        "  space_theta5.append(theta5)\n",
        "  #space_theta6.append(theta6)\n",
        "  #space_theta7.append(theta7)\n",
        "  #space_theta8.append(theta8)\n",
        "  #space_theta9.append(theta9)\n",
        "\n",
        "print('theta0 = float(', theta0,')')\n",
        "print('theta1 = float(', theta1,')')\n",
        "print('theta2 = float(', theta2,')')\n",
        "print('theta3 = float(', theta3,')')\n",
        "print('theta4 = float(', theta4,')')\n",
        "print('theta5 = float(', theta5,')')\n",
        "#print('theta6 = float(', theta6,')')\n",
        "#print('theta7 = float(', theta7,')')\n",
        "#print('theta8 = float(', theta8,')')\n",
        "#print('theta9 = float(', theta9,')')\n",
        "\n",
        "\n",
        "#x = range(10000)\n",
        "#y0 = space_theta0[:10000]\n",
        "#y1 = space_theta1[:10000]\n",
        "#y2 = space_theta2[:10000]\n",
        "#y3 = space_theta3[:10000]\n",
        "#y4 = space_theta4[:10000]\n",
        "#y5 = space_theta5[:10000]\n",
        "#y6 = space_theta6[:10000]\n",
        "#y7 = space_theta7[:10000]\n",
        "#y8 = space_theta8[:10000]\n",
        "#y9 = space_theta9[:10000]\n",
        "\n",
        "#plt.xlabel('t(iteration)')\n",
        "#plt.ylabel('Theta')\n",
        "#plt.plot(x, y0, 'yellow', x, y1, 'red', x, y2, 'green', x, y3, 'blue', x, y4, 'orange', x, y5, 'black')\n",
        "#plt.show()\n",
        "\n",
        "print('g(x,y,theta) = ', theta0, '+', theta1, ' x + ', theta2, ' y + ', theta3, ' xy +', theta4, ' x^2 + ', theta5, ' y^2 ')\n",
        "#, theta6, 'x^3', theta7, 'x^2 * y', theta8, 'x * y^2', theta9, 'y^3')\n"
      ],
      "execution_count": 0,
      "outputs": [
        {
          "output_type": "stream",
          "text": [
            "theta0 = float( 5.116376742218597 )\n",
            "theta1 = float( 3.206104335753032 )\n",
            "theta2 = float( 4.1169076393785895 )\n",
            "theta3 = float( -7.4293942614541635 )\n",
            "theta4 = float( -11.902331696641259 )\n",
            "theta5 = float( -11.691311199851663 )\n",
            "g(x,y,theta) =  5.116376742218597 + 3.206104335753032  x +  4.1169076393785895  y +  -7.4293942614541635  xy + -11.902331696641259  x^2 +  -11.691311199851663  y^2 \n"
          ],
          "name": "stdout"
        }
      ]
    },
    {
      "cell_type": "code",
      "metadata": {
        "id": "4fKbWDtLAdnI",
        "colab_type": "code",
        "outputId": "6f439423-4a59-41da-86b4-b4a1e028dbae",
        "colab": {
          "base_uri": "https://localhost:8080/",
          "height": 279
        }
      },
      "source": [
        "import math\n",
        "\n",
        "result = float(0)\n",
        "sub_func = float(0)\n",
        "J = []\n",
        "\n",
        "\n",
        "for i in range(len(space_theta0)):\n",
        "  theta0 = space_theta0[i]\n",
        "  theta1 = space_theta1[i]\n",
        "  theta2 = space_theta2[i]\n",
        "  theta3 = space_theta3[i]\n",
        "  theta4 = space_theta4[i]\n",
        "  theta5 = space_theta5[i]\n",
        "  #theta6 = space_theta6[i]\n",
        "  #theta7 = space_theta7[i]\n",
        "  #theta8 = space_theta8[i]\n",
        "  #theta9 = space_theta9[i]\n",
        "  for j in range(len(x_data)):\n",
        "    x = x_data[j]\n",
        "    y = y_data[j]\n",
        "    l = label[j]\n",
        "    sub_func = 1 / (1 + math.exp( -1 * ( theta0 + (theta1 * x) + (theta2 * y) + (theta3 * x * y) + (theta4 * (x**2) ) + (theta5 * (y**2) ) ) ))\n",
        "\n",
        "    if (sub_func >= 1):\n",
        "      sub_func = 0.99999\n",
        "\n",
        "\n",
        "    left = float(math.log(sub_func))\n",
        "    right = float(math.log(1 - sub_func))             # 바로 result에 삽입했더니 문제가 생겨서 left와 right로 쪼개서 식에 대입함.\n",
        "                                                      # 세세히 확인해보니 right파트에서 sub_func이 반올림 되서 1의 값을 가지는 경우가 생기는데\n",
        "                                                      # 이 값이 log (1 - right) 가 되면서 마이너스 무한대의 값을 가져서 에러가 남\n",
        "                                                      # 따라서 if문을 통해서 1이 아닌 0.99999로 값을 바꿔주었음.\n",
        "\n",
        "    result += ( (-1 * l * left) + ((l - 1) * right) ) / m\n",
        "  J.append(result)\n",
        "  result = float(0)\n",
        "\n",
        "\n",
        "x = range(10000)\n",
        "plt.xlabel('t(iteration)')\n",
        "plt.ylabel('J(Cost function)')\n",
        "plt.plot(x, J, 'blue')\n",
        "plt.show()\n"
      ],
      "execution_count": 0,
      "outputs": [
        {
          "output_type": "display_data",
          "data": {
            "image/png": "[encoded data removed]",
            "text/plain": [
              "<Figure size 432x288 with 1 Axes>"
            ]
          },
          "metadata": {
            "tags": [],
            "needs_background": "light"
          }
        }
      ]
    },
    {
      "cell_type": "code",
      "metadata": {
        "id": "OBFi0n3ID1WG",
        "colab_type": "code",
        "outputId": "9aff5896-3d6a-4be1-95c6-2e28fd99f0c9",
        "colab": {
          "base_uri": "https://localhost:8080/",
          "height": 279
        }
      },
      "source": [
        "basis = float(-1)\n",
        "accur = []\n",
        "total_num = m\n",
        "corre_num = 0\n",
        "new_accur = float(0)\n",
        "\n",
        "\n",
        "for i in range(len(space_theta0)):\n",
        "\n",
        "  theta0 = space_theta0[i]\n",
        "  theta1 = space_theta1[i]\n",
        "  theta2 = space_theta2[i]\n",
        "  theta3 = space_theta3[i]\n",
        "  theta4 = space_theta4[i]\n",
        "  theta5 = space_theta5[i]\n",
        "\n",
        "  for j in range(len(x_data)):\n",
        "\n",
        "    x = x_data[j]\n",
        "    y = y_data[j]\n",
        "    l = label[j]\n",
        "\n",
        "    if theta0 + (theta1 * x) + (theta2 * y) + (theta3 * x * y) + (theta4 * (x**2)) + (theta5 * (y**2)) <= 0:         # x제곱과 y제곱의 계수가 음수이므로 레이블 조건이 역으로 바뀌어야한다.\n",
        "      basis = 0                                                                                                      # 따라서 0보다 작거나 같을때는 레이블이 0, 0보다 클때는 레이블이 1이여야 한다.\n",
        "      if basis == l:                                                                                                 # 예를 들어서 x^2 + y^2 - 4 < 0 이면 원점을 중심으로 반지름이 2인 원 안에 해당하는 게 레이블이 1이여야 하지만\n",
        "        corre_num = corre_num + 1                                                                                    # 주어진 식에서 x제곱과 y제곱의 계수가 음수이므로\n",
        "    elif theta0 + (theta1 * x) + (theta2 * y) + (theta3 * x * y) + (theta4 * (x**2)) + (theta5 * (y**2)) > 0:        # -x^2 + -y^2 + 4 에서의 방정식은 0보다 클 때 레이블이 1이여야 한다.\n",
        "      basis = 1\n",
        "      if basis == l:\n",
        "        corre_num = corre_num + 1\n",
        "\n",
        "    if basis == -1:                                                                                                  # 위의 if문에 적용되지 않아 basis값이 바뀌지 않을 경우 코딩이 잘못 되었다는 것을 알린다.\n",
        "      print('에러발생')\n",
        "  \n",
        "  new_accur = ( corre_num / total_num ) * 100\n",
        "  accur.append(new_accur)\n",
        "\n",
        "  corre_num = 0\n",
        "  basis = float(-1)\n",
        "\n",
        "x = range(10000)\n",
        "plt.xlabel('t(iteration)')\n",
        "plt.ylabel('training accuracy')\n",
        "plt.plot(x, accur, 'red')\n",
        "plt.show()"
      ],
      "execution_count": 0,
      "outputs": [
        {
          "output_type": "display_data",
          "data": {
            "image/png": "[encoded data removed]",
            "text/plain": [
              "<Figure size 432x288 with 1 Axes>"
            ]
          },
          "metadata": {
            "tags": [],
            "needs_background": "light"
          }
        }
      ]
    },
    {
      "cell_type": "code",
      "metadata": {
        "id": "NiP4zWxCIXfZ",
        "colab_type": "code",
        "outputId": "65ce055d-5f9e-41fb-8d82-6036a6a041e9",
        "colab": {
          "base_uri": "https://localhost:8080/",
          "height": 34
        }
      },
      "source": [
        "print('training accuracy =', accur[9999], '%')"
      ],
      "execution_count": 101,
      "outputs": [
        {
          "output_type": "stream",
          "text": [
            "training accuracy = 85.59322033898306 %\n"
          ],
          "name": "stdout"
        }
      ]
    }
  ]
}